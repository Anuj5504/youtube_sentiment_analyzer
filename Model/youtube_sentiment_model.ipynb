{
 "cells": [
  {
   "cell_type": "markdown",
   "metadata": {
    "id": "nGpszDTK_zJ4"
   },
   "source": [
    "\n",
    "# Youtube Comment Sentiment Analysis\n",
    "\n"
   ]
  },
  {
   "cell_type": "markdown",
   "metadata": {
    "id": "SmPTH1FaKRJx"
   },
   "source": [
    "Fetching Youtube comments"
   ]
  },
  {
   "cell_type": "code",
   "execution_count": 2,
   "metadata": {
    "id": "4lT098kSJl5B"
   },
   "outputs": [],
   "source": [
    "import pandas as pd\n",
    "from googleapiclient.discovery import build\n",
    "import csv\n",
    "import os"
   ]
  },
  {
   "cell_type": "code",
   "execution_count": null,
   "metadata": {
    "id": "2Fb4uv-jPNc4"
   },
   "outputs": [],
   "source": [
    "API_KEY = \"YOUR_YOUTUBE_API_KEY\"\n",
    "youtube = build(\"youtube\", \"v3\", developerKey=API_KEY)"
   ]
  },
  {
   "cell_type": "code",
   "execution_count": 39,
   "metadata": {
    "id": "-1g6ylTxKd24"
   },
   "outputs": [],
   "source": [
    "VIDEO_IDS = ['xiFsAjUDwdU', 'f3WFSL36oZo', 'tGcVu2noaUU', 'SJYQNRNzVkI', 'sQ5DCwcpMy0', 'ekWc5TlNjK4', 'q9leDzlNEaY', 'gDjaFLxc__k', 'WX1kvn9YHVQ', '5wenj2_oOeg', 'EomJuxTeRm4', 'iPSP_j-QyX4', 'mSVgntFl-1k', 'PTKPOCBMo5c', '6XBoo2OfLGg', '43yyNypLixI', 'H4H99b1CjPU', 'jcObbfm5_1g', 'eZE4qot1Quk', 'uakLypgccbI', 'md0T03T_0Tg', 'QZfH7cFp3Ys', 'tneJeYmw0J4', 'tzXmzKQWmTM', 'WsK-KPi_w3w', 'jsR3XYk_rGY', 'pB9jEYO2oaA', 'mjzhf0aXXEg', 'kWtmIfcWeZo', 'RwuITNzKr8g', '4WMZRXaNReo', 'Cl9xfQjtbiM', 'qqLej3URBRM', 'lMeyNE6a_SA', 'NBZgirj_C2Y', 'NkZgkvDlJuU', 'aSBa1vJ7Zr4', 'faL_S-7z4_I', 'eB5ZuCWyC6A', 'n3vgkJj4NrU', '7hQ8DpeKzZE', '7D-WpFCmvRA', '2rOftxJBa_g', 'k26OTjEK6Vw', 'Ra9EJu0GtHc', 'VExHTj95hIo', 'E3lN0tAufX4', 't3s2lAtGncU', 'GGuLAZG-ll0', '0hhR3f_1qGA']\n",
    "MAX_COMMENTS = 500"
   ]
  },
  {
   "cell_type": "code",
   "execution_count": 40,
   "metadata": {
    "colab": {
     "base_uri": "https://localhost:8080/"
    },
    "id": "SuernHGcKmK_",
    "outputId": "e6cc86d4-5583-428e-a5eb-0cbd96bd6eff"
   },
   "outputs": [
    {
     "name": "stdout",
     "output_type": "stream",
     "text": [
      "Size: 50 \n",
      "IDs: ['xiFsAjUDwdU', 'f3WFSL36oZo', 'tGcVu2noaUU', 'SJYQNRNzVkI', 'sQ5DCwcpMy0', 'ekWc5TlNjK4', 'q9leDzlNEaY', 'gDjaFLxc__k', 'WX1kvn9YHVQ', '5wenj2_oOeg', 'EomJuxTeRm4', 'iPSP_j-QyX4', 'mSVgntFl-1k', 'PTKPOCBMo5c', '6XBoo2OfLGg', '43yyNypLixI', 'H4H99b1CjPU', 'jcObbfm5_1g', 'eZE4qot1Quk', 'uakLypgccbI', 'md0T03T_0Tg', 'QZfH7cFp3Ys', 'tneJeYmw0J4', 'tzXmzKQWmTM', 'WsK-KPi_w3w', 'jsR3XYk_rGY', 'pB9jEYO2oaA', 'mjzhf0aXXEg', 'kWtmIfcWeZo', 'RwuITNzKr8g', '4WMZRXaNReo', 'Cl9xfQjtbiM', 'qqLej3URBRM', 'lMeyNE6a_SA', 'NBZgirj_C2Y', 'NkZgkvDlJuU', 'aSBa1vJ7Zr4', 'faL_S-7z4_I', 'eB5ZuCWyC6A', 'n3vgkJj4NrU', '7hQ8DpeKzZE', '7D-WpFCmvRA', '2rOftxJBa_g', 'k26OTjEK6Vw', 'Ra9EJu0GtHc', 'VExHTj95hIo', 'E3lN0tAufX4', 't3s2lAtGncU', 'GGuLAZG-ll0', '0hhR3f_1qGA']\n"
     ]
    }
   ],
   "source": [
    "print('Size:',len(VIDEO_IDS),'\\nIDs:',VIDEO_IDS)"
   ]
  },
  {
   "cell_type": "code",
   "execution_count": 41,
   "metadata": {
    "id": "hHvW9bRpOuLn"
   },
   "outputs": [],
   "source": [
    "def get_comments(youtube, video_id, max_comments=500):\n",
    "    comments = []\n",
    "    next_page_token = None\n",
    "\n",
    "    while len(comments) < max_comments:\n",
    "        response = youtube.commentThreads().list(\n",
    "            part=\"snippet\",\n",
    "            videoId=video_id,\n",
    "            maxResults=100,\n",
    "            pageToken=next_page_token,\n",
    "            textFormat=\"plainText\"\n",
    "        ).execute()\n",
    "\n",
    "        for item in response[\"items\"]:\n",
    "            comment = item[\"snippet\"][\"topLevelComment\"][\"snippet\"][\"textDisplay\"]\n",
    "            comments.append(comment)\n",
    "            if len(comments) >= max_comments:\n",
    "                break\n",
    "\n",
    "        next_page_token = response.get(\"nextPageToken\")\n",
    "        if not next_page_token:\n",
    "            break\n",
    "\n",
    "    return comments\n"
   ]
  },
  {
   "cell_type": "code",
   "execution_count": null,
   "metadata": {
    "colab": {
     "base_uri": "https://localhost:8080/"
    },
    "id": "9Js1ryRxOuyE",
    "outputId": "83c0eef2-8ad0-4482-9eaa-a51b63ab3d12"
   },
   "outputs": [
    {
     "name": "stdout",
     "output_type": "stream",
     "text": [
      "✅ Fetched 500 from xiFsAjUDwdU — Total: 500\n",
      "✅ Fetched 500 from f3WFSL36oZo — Total: 1000\n",
      "✅ Fetched 500 from tGcVu2noaUU — Total: 1500\n",
      "✅ Fetched 500 from SJYQNRNzVkI — Total: 2000\n",
      "✅ Fetched 500 from sQ5DCwcpMy0 — Total: 2500\n",
      "✅ Fetched 500 from ekWc5TlNjK4 — Total: 3000\n",
      "✅ Fetched 500 from q9leDzlNEaY — Total: 3500\n",
      "✅ Fetched 500 from gDjaFLxc__k — Total: 4000\n",
      "✅ Fetched 500 from WX1kvn9YHVQ — Total: 4500\n",
      "✅ Fetched 500 from 5wenj2_oOeg — Total: 5000\n",
      "✅ Fetched 152 from EomJuxTeRm4 — Total: 5152\n",
      "✅ Fetched 500 from iPSP_j-QyX4 — Total: 5652\n",
      "✅ Fetched 500 from mSVgntFl-1k — Total: 6152\n",
      "✅ Fetched 500 from PTKPOCBMo5c — Total: 6652\n",
      "✅ Fetched 48 from 6XBoo2OfLGg — Total: 6700\n",
      "✅ Fetched 500 from 43yyNypLixI — Total: 7200\n",
      "✅ Fetched 500 from H4H99b1CjPU — Total: 7700\n",
      "✅ Fetched 88 from jcObbfm5_1g — Total: 7788\n",
      "✅ Fetched 500 from eZE4qot1Quk — Total: 8288\n",
      "✅ Fetched 180 from uakLypgccbI — Total: 8468\n",
      "✅ Fetched 500 from md0T03T_0Tg — Total: 8968\n",
      "✅ Fetched 500 from QZfH7cFp3Ys — Total: 9468\n",
      "✅ Fetched 500 from tneJeYmw0J4 — Total: 9968\n",
      "✅ Fetched 500 from tzXmzKQWmTM — Total: 10468\n"
     ]
    }
   ],
   "source": [
    "all_comments = []\n",
    "\n",
    "\n",
    "for vid in VIDEO_IDS:\n",
    "    try:\n",
    "        comments = get_comments(youtube, vid, max_comments=500)\n",
    "        all_comments.extend(comments)\n",
    "        print(f\"✅ Fetched {len(comments)} from {vid} — Total: {len(all_comments)}\")\n",
    "        if len(all_comments) >= 10000:\n",
    "            break\n",
    "    except Exception as e:\n",
    "        print(f\"Error with video {vid}: {e}\")\n"
   ]
  },
  {
   "cell_type": "code",
   "execution_count": null,
   "metadata": {
    "colab": {
     "base_uri": "https://localhost:8080/"
    },
    "id": "ZN7VJl4VOv4J",
    "outputId": "e84931e4-cd66-4dd2-af22-876065b9819c"
   },
   "outputs": [],
   "source": [
    "print(\"Data Size:\",len(all_comments),\"\\nFetched Comments:\",all_comments)"
   ]
  },
  {
   "cell_type": "code",
   "execution_count": 3,
   "metadata": {
    "colab": {
     "base_uri": "https://localhost:8080/"
    },
    "id": "kVh95S_EPvpa",
    "outputId": "58da1da9-0e27-429e-8e3c-67609b43ae85"
   },
   "outputs": [
    {
     "name": "stdout",
     "output_type": "stream",
     "text": [
      "Mounted at /content/drive\n"
     ]
    }
   ],
   "source": [
    "from google.colab import drive\n",
    "drive.mount('/content/drive')\n"
   ]
  },
  {
   "cell_type": "markdown",
   "metadata": {
    "id": "D34nW9rofCl6"
   },
   "source": [
    "Preprocessing Dataset"
   ]
  },
  {
   "cell_type": "code",
   "execution_count": 49,
   "metadata": {
    "id": "ypMLvwLDemrA"
   },
   "outputs": [],
   "source": [
    "import re\n"
   ]
  },
  {
   "cell_type": "code",
   "execution_count": null,
   "metadata": {
    "id": "w6wcfFCYlFJe"
   },
   "outputs": [],
   "source": [
    "def clean_comment(text):\n",
    "    text = text.strip()\n",
    "    text = re.sub(r\"http\\S+|www\\S+|https\\S+\", '', text) # remove URLs\n",
    "    text = re.sub(r'@\\w+', '', text) # remove mentions\n",
    "    text = re.sub(r'#\\w+', '', text) # remove hashtags\n",
    "    text = re.sub(r\"\\s+\", \" \", text) # normalize whitespace\n",
    "    return text"
   ]
  },
  {
   "cell_type": "code",
   "execution_count": 52,
   "metadata": {
    "id": "_YItvDDblG7J"
   },
   "outputs": [],
   "source": [
    "clean_comment = [clean_comment(c) for c in all_comments]"
   ]
  },
  {
   "cell_type": "markdown",
   "metadata": {
    "id": "5wlCS9xClt1k"
   },
   "source": [
    "Labeling comments using j-hartmann/emotion-english-distilroberta-base"
   ]
  },
  {
   "cell_type": "code",
   "execution_count": 55,
   "metadata": {
    "id": "5S7bU-kHmN_Y"
   },
   "outputs": [],
   "source": [
    "from transformers import pipeline\n",
    "from tqdm import tqdm"
   ]
  },
  {
   "cell_type": "code",
   "execution_count": 56,
   "metadata": {
    "colab": {
     "base_uri": "https://localhost:8080/",
     "height": 414,
     "referenced_widgets": [
      "27484e9e13434da79e62cb0ad2208d0c",
      "eb062b0f3fcf40dd8477a5ab0cb08f43",
      "fdc9baf680be4b49a8f0610505063283",
      "f0a0ceb2f16e44619f873398fbc816e8",
      "31ed7b99ed82400b840525fd54ca2bc1",
      "3708a0644a0f4b388c3c58984f56d524",
      "e4fa3b34787f4b84a267d207bf350081",
      "d0c560bb598c4d349f3cb2088ad6cb0f",
      "3d16bdbdd656434ea2fb1ad45d1ad674",
      "6c3399b65d30444a9a6f1380ef2e6ab2",
      "f0ff9d6d01cd49fab7619d4a0157e39a",
      "4b6ea891c75f45d5b81cb8c3e0cc90d4",
      "29920577ffe649bf87368252e297ecbf",
      "e85165e010f644ee95ccc6809787fdd2",
      "bcb90403521b4948b0b3dbdf7fb23881",
      "965b02753b514d7aa9d438392534c9bd",
      "81fb4a9723c649899c80663c4bae8f7e",
      "1866e6805c534412b041d14b67e2a238",
      "1071b7a45d7848c1b05d3c5b020d4de2",
      "fc6e51b932ff4fbf93ed8495e0fdcd54",
      "bdfce34683034aed9c7c7227e3017d43",
      "c7f3d97b909e4594b38474127c013f5b",
      "a140478845404b41babcbcdd4f77a477",
      "ab0f7b6d66044f778e47e617602aa84a",
      "a6541dcffc24479485b44d2a0580ce9e",
      "a9d49d4489e14ba18ec0e06466971a6f",
      "e97ba592f9f841ce9200278639a4f1d1",
      "d9461dc7b00d49dd9c0c06500c62e970",
      "4451ed6e09424aba84e95f6dc298d44b",
      "966aca6550644e6ca3d1736f652e77a0",
      "850a6f6f50804b128e564d7977f2ebdf",
      "f27f3bcec6814c97bc59e71c8c655bfe",
      "74050c545bba44ea9a7965589ea22fa7",
      "fc063570fb9442c5a7a1a6a15eb69b0d",
      "5ec1a092e8e84fba81198a18a678b06b",
      "a8f474ea2b2c4789a739df86164e8d21",
      "36e2492fecf8459bbeeb544efe35cce5",
      "f6dd304287214cfd904790de58b03111",
      "2f916cf81ab84f52bf7ffe3a8a00cd59",
      "154da64eab0041c59affa71ed1c1c230",
      "0725ced8dc7d472fa9ccee13dc4049fa",
      "7147e67a32614a188c49f600bde16929",
      "3a3c08dc08824e949f39e30a908ae7a1",
      "c4172052cab7450092cf600bcf033a2f",
      "5e7c0562a864450fb9b95a4eece611d2",
      "fddb1a17adaa46df832d23d6a76b53ae",
      "8ae7587f19d04b3ebeef71897bd6da7a",
      "ac37dd95b7894b24b5e48cbe4c93af52",
      "7cbf4049c9b7456da75ba7c4e6474a92",
      "a73b9aa654b642a490dac749a456b3e5",
      "3a654fffe9464a60ac6a7cfdfb6d1f00",
      "831858c2aaaf477f82ca7786240190f2",
      "d5759fbbd21e4558b132d9fabf44bf58",
      "79cf82da307a443e9c48416b26472adc",
      "2c12012bf4e945158ab194b01b69b38d",
      "e85adf29cba347029dc988bcd13fc2f9",
      "5508dec28fca4737ae72e255efed4c64",
      "0fa51371df4d46a99220dca59e1cb48c",
      "d18700fbfe5e4331bbe255df713e5c05",
      "36a765a539d64da7bb11be7c1ca3f1df",
      "9ea6cb622dad4730b99afa5a102e9989",
      "b92d412c39be40b2bfe4cb9395948209",
      "83e4481cc307494ab767dd8fa4585c3a",
      "9ce736b7027e478dbd44393611317015",
      "7695fa66a34149b29acb82b9d317a949",
      "27e73bc79e164a66a716277806f5a09d",
      "c633defe7880454b8c4878ce0a0bb611",
      "1df63450a67c464f96ee4f2ee9cfd401",
      "0ddb7f84033c45709eb14d0a6fa958b7",
      "cea3a277af074d65bda3df195fa1e760",
      "b0b3bc573bbe4805ab405851176f6bda",
      "31e9cab413ac46948b2174d60fc0be35",
      "7fb7a9bba3a04b5f9e36987718a62a90",
      "7abfeae0913c46a28b2849104da49477",
      "8f27d94c1c6243eea33bbc75ab043579",
      "e534737e39214cb0894df452c52e2427",
      "13baf649ee154c7a869da9ce30d878dd",
      "0587ccc6e8894825a12fdd70b077b56d",
      "c25782b23cfa4ea7a2ad1df325f6cb07",
      "c2694a2984654c13b4a413a325028d21",
      "b878150364794a0d997a490a99f8c6b8",
      "a0100033fb0d43ed8ac4b22c84caf00d",
      "53c75edbee5140399128022a25882460",
      "64d6dff4afc94d67bbb5d7b5a444c461",
      "4526c2aea0174f1ea8064bc4460b50f5",
      "17eb2cdd04ef4663814a2575ce9f00a4",
      "6b4b49a05e444be2bde38f2dad6d7324",
      "7e1bbffdf4e141259a7244c2e5ceeb03"
     ]
    },
    "id": "VBFU5Vt0mPWc",
    "outputId": "baac3f98-d3e7-49ae-c0d8-9a2c6c2994f8"
   },
   "outputs": [
    {
     "name": "stderr",
     "output_type": "stream",
     "text": [
      "/usr/local/lib/python3.11/dist-packages/huggingface_hub/utils/_auth.py:94: UserWarning: \n",
      "The secret `HF_TOKEN` does not exist in your Colab secrets.\n",
      "To authenticate with the Hugging Face Hub, create a token in your settings tab (https://huggingface.co/settings/tokens), set it as secret in your Google Colab and restart your session.\n",
      "You will be able to reuse this secret in all of your notebooks.\n",
      "Please note that authentication is recommended but still optional to access public models or datasets.\n",
      "  warnings.warn(\n"
     ]
    },
    {
     "data": {
      "application/vnd.jupyter.widget-view+json": {
       "model_id": "27484e9e13434da79e62cb0ad2208d0c",
       "version_major": 2,
       "version_minor": 0
      },
      "text/plain": [
       "config.json:   0%|          | 0.00/1.00k [00:00<?, ?B/s]"
      ]
     },
     "metadata": {},
     "output_type": "display_data"
    },
    {
     "data": {
      "application/vnd.jupyter.widget-view+json": {
       "model_id": "4b6ea891c75f45d5b81cb8c3e0cc90d4",
       "version_major": 2,
       "version_minor": 0
      },
      "text/plain": [
       "pytorch_model.bin:   0%|          | 0.00/329M [00:00<?, ?B/s]"
      ]
     },
     "metadata": {},
     "output_type": "display_data"
    },
    {
     "data": {
      "application/vnd.jupyter.widget-view+json": {
       "model_id": "a140478845404b41babcbcdd4f77a477",
       "version_major": 2,
       "version_minor": 0
      },
      "text/plain": [
       "tokenizer_config.json:   0%|          | 0.00/294 [00:00<?, ?B/s]"
      ]
     },
     "metadata": {},
     "output_type": "display_data"
    },
    {
     "data": {
      "application/vnd.jupyter.widget-view+json": {
       "model_id": "fc063570fb9442c5a7a1a6a15eb69b0d",
       "version_major": 2,
       "version_minor": 0
      },
      "text/plain": [
       "vocab.json:   0%|          | 0.00/798k [00:00<?, ?B/s]"
      ]
     },
     "metadata": {},
     "output_type": "display_data"
    },
    {
     "data": {
      "application/vnd.jupyter.widget-view+json": {
       "model_id": "5e7c0562a864450fb9b95a4eece611d2",
       "version_major": 2,
       "version_minor": 0
      },
      "text/plain": [
       "model.safetensors:   0%|          | 0.00/329M [00:00<?, ?B/s]"
      ]
     },
     "metadata": {},
     "output_type": "display_data"
    },
    {
     "data": {
      "application/vnd.jupyter.widget-view+json": {
       "model_id": "e85adf29cba347029dc988bcd13fc2f9",
       "version_major": 2,
       "version_minor": 0
      },
      "text/plain": [
       "merges.txt:   0%|          | 0.00/456k [00:00<?, ?B/s]"
      ]
     },
     "metadata": {},
     "output_type": "display_data"
    },
    {
     "data": {
      "application/vnd.jupyter.widget-view+json": {
       "model_id": "c633defe7880454b8c4878ce0a0bb611",
       "version_major": 2,
       "version_minor": 0
      },
      "text/plain": [
       "tokenizer.json:   0%|          | 0.00/1.36M [00:00<?, ?B/s]"
      ]
     },
     "metadata": {},
     "output_type": "display_data"
    },
    {
     "data": {
      "application/vnd.jupyter.widget-view+json": {
       "model_id": "0587ccc6e8894825a12fdd70b077b56d",
       "version_major": 2,
       "version_minor": 0
      },
      "text/plain": [
       "special_tokens_map.json:   0%|          | 0.00/239 [00:00<?, ?B/s]"
      ]
     },
     "metadata": {},
     "output_type": "display_data"
    },
    {
     "name": "stderr",
     "output_type": "stream",
     "text": [
      "Device set to use cpu\n"
     ]
    }
   ],
   "source": [
    "emotion_classifier = pipeline(\"text-classification\", model=\"j-hartmann/emotion-english-distilroberta-base\", truncation=True)\n"
   ]
  },
  {
   "cell_type": "code",
   "execution_count": 58,
   "metadata": {
    "colab": {
     "base_uri": "https://localhost:8080/",
     "height": 223
    },
    "id": "viKmnVitnzRA",
    "outputId": "53be0f54-dad6-4744-ac42-8b545fd842fe"
   },
   "outputs": [
    {
     "name": "stderr",
     "output_type": "stream",
     "text": [
      "100%|██████████| 10468/10468 [13:37<00:00, 12.80it/s]\n"
     ]
    },
    {
     "data": {
      "application/vnd.google.colaboratory.intrinsic+json": {
       "summary": "{\n  \"name\": \"df\",\n  \"rows\": 10468,\n  \"fields\": [\n    {\n      \"column\": \"comment\",\n      \"properties\": {\n        \"dtype\": \"string\",\n        \"num_unique_values\": 7014,\n        \"samples\": [\n          \"THEYRE BACKK!\",\n          \"I never get bored listening to it...\",\n          \"Why isn't there any music in the chase down down down down down down down down down down down down down down down down down down down down down down down down down down down down down down down\"\n        ],\n        \"semantic_type\": \"\",\n        \"description\": \"\"\n      }\n    },\n    {\n      \"column\": \"label\",\n      \"properties\": {\n        \"dtype\": \"category\",\n        \"num_unique_values\": 7,\n        \"samples\": [\n          \"neutral\",\n          \"surprise\",\n          \"sadness\"\n        ],\n        \"semantic_type\": \"\",\n        \"description\": \"\"\n      }\n    },\n    {\n      \"column\": \"score\",\n      \"properties\": {\n        \"dtype\": \"number\",\n        \"std\": 0.18179429419440904,\n        \"min\": 0.2097390741109848,\n        \"max\": 0.9940401315689087,\n        \"num_unique_values\": 7010,\n        \"samples\": [\n          0.8490962386131287,\n          0.5669690370559692,\n          0.4772241413593292\n        ],\n        \"semantic_type\": \"\",\n        \"description\": \"\"\n      }\n    }\n  ]\n}",
       "type": "dataframe",
       "variable_name": "df"
      },
      "text/html": [
       "\n",
       "  <div id=\"df-a34fb734-4bcb-4fe8-9889-b3c8fe82e083\" class=\"colab-df-container\">\n",
       "    <div>\n",
       "<style scoped>\n",
       "    .dataframe tbody tr th:only-of-type {\n",
       "        vertical-align: middle;\n",
       "    }\n",
       "\n",
       "    .dataframe tbody tr th {\n",
       "        vertical-align: top;\n",
       "    }\n",
       "\n",
       "    .dataframe thead th {\n",
       "        text-align: right;\n",
       "    }\n",
       "</style>\n",
       "<table border=\"1\" class=\"dataframe\">\n",
       "  <thead>\n",
       "    <tr style=\"text-align: right;\">\n",
       "      <th></th>\n",
       "      <th>comment</th>\n",
       "      <th>label</th>\n",
       "      <th>score</th>\n",
       "    </tr>\n",
       "  </thead>\n",
       "  <tbody>\n",
       "    <tr>\n",
       "      <th>0</th>\n",
       "      <td>Subscribe and you might just race for a lambo :)</td>\n",
       "      <td>neutral</td>\n",
       "      <td>0.956268</td>\n",
       "    </tr>\n",
       "    <tr>\n",
       "      <th>1</th>\n",
       "      <td>اريد المشاركة</td>\n",
       "      <td>neutral</td>\n",
       "      <td>0.474828</td>\n",
       "    </tr>\n",
       "    <tr>\n",
       "      <th>2</th>\n",
       "      <td>I didn t expect to love this as much as I do</td>\n",
       "      <td>surprise</td>\n",
       "      <td>0.902146</td>\n",
       "    </tr>\n",
       "    <tr>\n",
       "      <th>3</th>\n",
       "      <td>انا مشترك يا مستر بيست وانا من الجزاءر ارجوك ا...</td>\n",
       "      <td>anger</td>\n",
       "      <td>0.354760</td>\n",
       "    </tr>\n",
       "    <tr>\n",
       "      <th>4</th>\n",
       "      <td>Who else is here before this blows up</td>\n",
       "      <td>neutral</td>\n",
       "      <td>0.440951</td>\n",
       "    </tr>\n",
       "  </tbody>\n",
       "</table>\n",
       "</div>\n",
       "    <div class=\"colab-df-buttons\">\n",
       "\n",
       "  <div class=\"colab-df-container\">\n",
       "    <button class=\"colab-df-convert\" onclick=\"convertToInteractive('df-a34fb734-4bcb-4fe8-9889-b3c8fe82e083')\"\n",
       "            title=\"Convert this dataframe to an interactive table.\"\n",
       "            style=\"display:none;\">\n",
       "\n",
       "  <svg xmlns=\"http://www.w3.org/2000/svg\" height=\"24px\" viewBox=\"0 -960 960 960\">\n",
       "    <path d=\"M120-120v-720h720v720H120Zm60-500h600v-160H180v160Zm220 220h160v-160H400v160Zm0 220h160v-160H400v160ZM180-400h160v-160H180v160Zm440 0h160v-160H620v160ZM180-180h160v-160H180v160Zm440 0h160v-160H620v160Z\"/>\n",
       "  </svg>\n",
       "    </button>\n",
       "\n",
       "  <style>\n",
       "    .colab-df-container {\n",
       "      display:flex;\n",
       "      gap: 12px;\n",
       "    }\n",
       "\n",
       "    .colab-df-convert {\n",
       "      background-color: #E8F0FE;\n",
       "      border: none;\n",
       "      border-radius: 50%;\n",
       "      cursor: pointer;\n",
       "      display: none;\n",
       "      fill: #1967D2;\n",
       "      height: 32px;\n",
       "      padding: 0 0 0 0;\n",
       "      width: 32px;\n",
       "    }\n",
       "\n",
       "    .colab-df-convert:hover {\n",
       "      background-color: #E2EBFA;\n",
       "      box-shadow: 0px 1px 2px rgba(60, 64, 67, 0.3), 0px 1px 3px 1px rgba(60, 64, 67, 0.15);\n",
       "      fill: #174EA6;\n",
       "    }\n",
       "\n",
       "    .colab-df-buttons div {\n",
       "      margin-bottom: 4px;\n",
       "    }\n",
       "\n",
       "    [theme=dark] .colab-df-convert {\n",
       "      background-color: #3B4455;\n",
       "      fill: #D2E3FC;\n",
       "    }\n",
       "\n",
       "    [theme=dark] .colab-df-convert:hover {\n",
       "      background-color: #434B5C;\n",
       "      box-shadow: 0px 1px 3px 1px rgba(0, 0, 0, 0.15);\n",
       "      filter: drop-shadow(0px 1px 2px rgba(0, 0, 0, 0.3));\n",
       "      fill: #FFFFFF;\n",
       "    }\n",
       "  </style>\n",
       "\n",
       "    <script>\n",
       "      const buttonEl =\n",
       "        document.querySelector('#df-a34fb734-4bcb-4fe8-9889-b3c8fe82e083 button.colab-df-convert');\n",
       "      buttonEl.style.display =\n",
       "        google.colab.kernel.accessAllowed ? 'block' : 'none';\n",
       "\n",
       "      async function convertToInteractive(key) {\n",
       "        const element = document.querySelector('#df-a34fb734-4bcb-4fe8-9889-b3c8fe82e083');\n",
       "        const dataTable =\n",
       "          await google.colab.kernel.invokeFunction('convertToInteractive',\n",
       "                                                    [key], {});\n",
       "        if (!dataTable) return;\n",
       "\n",
       "        const docLinkHtml = 'Like what you see? Visit the ' +\n",
       "          '<a target=\"_blank\" href=https://colab.research.google.com/notebooks/data_table.ipynb>data table notebook</a>'\n",
       "          + ' to learn more about interactive tables.';\n",
       "        element.innerHTML = '';\n",
       "        dataTable['output_type'] = 'display_data';\n",
       "        await google.colab.output.renderOutput(dataTable, element);\n",
       "        const docLink = document.createElement('div');\n",
       "        docLink.innerHTML = docLinkHtml;\n",
       "        element.appendChild(docLink);\n",
       "      }\n",
       "    </script>\n",
       "  </div>\n",
       "\n",
       "\n",
       "    <div id=\"df-2bb1c2bf-2a77-4865-bb3b-04b3595fb319\">\n",
       "      <button class=\"colab-df-quickchart\" onclick=\"quickchart('df-2bb1c2bf-2a77-4865-bb3b-04b3595fb319')\"\n",
       "                title=\"Suggest charts\"\n",
       "                style=\"display:none;\">\n",
       "\n",
       "<svg xmlns=\"http://www.w3.org/2000/svg\" height=\"24px\"viewBox=\"0 0 24 24\"\n",
       "     width=\"24px\">\n",
       "    <g>\n",
       "        <path d=\"M19 3H5c-1.1 0-2 .9-2 2v14c0 1.1.9 2 2 2h14c1.1 0 2-.9 2-2V5c0-1.1-.9-2-2-2zM9 17H7v-7h2v7zm4 0h-2V7h2v10zm4 0h-2v-4h2v4z\"/>\n",
       "    </g>\n",
       "</svg>\n",
       "      </button>\n",
       "\n",
       "<style>\n",
       "  .colab-df-quickchart {\n",
       "      --bg-color: #E8F0FE;\n",
       "      --fill-color: #1967D2;\n",
       "      --hover-bg-color: #E2EBFA;\n",
       "      --hover-fill-color: #174EA6;\n",
       "      --disabled-fill-color: #AAA;\n",
       "      --disabled-bg-color: #DDD;\n",
       "  }\n",
       "\n",
       "  [theme=dark] .colab-df-quickchart {\n",
       "      --bg-color: #3B4455;\n",
       "      --fill-color: #D2E3FC;\n",
       "      --hover-bg-color: #434B5C;\n",
       "      --hover-fill-color: #FFFFFF;\n",
       "      --disabled-bg-color: #3B4455;\n",
       "      --disabled-fill-color: #666;\n",
       "  }\n",
       "\n",
       "  .colab-df-quickchart {\n",
       "    background-color: var(--bg-color);\n",
       "    border: none;\n",
       "    border-radius: 50%;\n",
       "    cursor: pointer;\n",
       "    display: none;\n",
       "    fill: var(--fill-color);\n",
       "    height: 32px;\n",
       "    padding: 0;\n",
       "    width: 32px;\n",
       "  }\n",
       "\n",
       "  .colab-df-quickchart:hover {\n",
       "    background-color: var(--hover-bg-color);\n",
       "    box-shadow: 0 1px 2px rgba(60, 64, 67, 0.3), 0 1px 3px 1px rgba(60, 64, 67, 0.15);\n",
       "    fill: var(--button-hover-fill-color);\n",
       "  }\n",
       "\n",
       "  .colab-df-quickchart-complete:disabled,\n",
       "  .colab-df-quickchart-complete:disabled:hover {\n",
       "    background-color: var(--disabled-bg-color);\n",
       "    fill: var(--disabled-fill-color);\n",
       "    box-shadow: none;\n",
       "  }\n",
       "\n",
       "  .colab-df-spinner {\n",
       "    border: 2px solid var(--fill-color);\n",
       "    border-color: transparent;\n",
       "    border-bottom-color: var(--fill-color);\n",
       "    animation:\n",
       "      spin 1s steps(1) infinite;\n",
       "  }\n",
       "\n",
       "  @keyframes spin {\n",
       "    0% {\n",
       "      border-color: transparent;\n",
       "      border-bottom-color: var(--fill-color);\n",
       "      border-left-color: var(--fill-color);\n",
       "    }\n",
       "    20% {\n",
       "      border-color: transparent;\n",
       "      border-left-color: var(--fill-color);\n",
       "      border-top-color: var(--fill-color);\n",
       "    }\n",
       "    30% {\n",
       "      border-color: transparent;\n",
       "      border-left-color: var(--fill-color);\n",
       "      border-top-color: var(--fill-color);\n",
       "      border-right-color: var(--fill-color);\n",
       "    }\n",
       "    40% {\n",
       "      border-color: transparent;\n",
       "      border-right-color: var(--fill-color);\n",
       "      border-top-color: var(--fill-color);\n",
       "    }\n",
       "    60% {\n",
       "      border-color: transparent;\n",
       "      border-right-color: var(--fill-color);\n",
       "    }\n",
       "    80% {\n",
       "      border-color: transparent;\n",
       "      border-right-color: var(--fill-color);\n",
       "      border-bottom-color: var(--fill-color);\n",
       "    }\n",
       "    90% {\n",
       "      border-color: transparent;\n",
       "      border-bottom-color: var(--fill-color);\n",
       "    }\n",
       "  }\n",
       "</style>\n",
       "\n",
       "      <script>\n",
       "        async function quickchart(key) {\n",
       "          const quickchartButtonEl =\n",
       "            document.querySelector('#' + key + ' button');\n",
       "          quickchartButtonEl.disabled = true;  // To prevent multiple clicks.\n",
       "          quickchartButtonEl.classList.add('colab-df-spinner');\n",
       "          try {\n",
       "            const charts = await google.colab.kernel.invokeFunction(\n",
       "                'suggestCharts', [key], {});\n",
       "          } catch (error) {\n",
       "            console.error('Error during call to suggestCharts:', error);\n",
       "          }\n",
       "          quickchartButtonEl.classList.remove('colab-df-spinner');\n",
       "          quickchartButtonEl.classList.add('colab-df-quickchart-complete');\n",
       "        }\n",
       "        (() => {\n",
       "          let quickchartButtonEl =\n",
       "            document.querySelector('#df-2bb1c2bf-2a77-4865-bb3b-04b3595fb319 button');\n",
       "          quickchartButtonEl.style.display =\n",
       "            google.colab.kernel.accessAllowed ? 'block' : 'none';\n",
       "        })();\n",
       "      </script>\n",
       "    </div>\n",
       "\n",
       "    </div>\n",
       "  </div>\n"
      ],
      "text/plain": [
       "                                             comment     label     score\n",
       "0   Subscribe and you might just race for a lambo :)   neutral  0.956268\n",
       "1                                      اريد المشاركة   neutral  0.474828\n",
       "2       I didn t expect to love this as much as I do  surprise  0.902146\n",
       "3  انا مشترك يا مستر بيست وانا من الجزاءر ارجوك ا...     anger  0.354760\n",
       "4              Who else is here before this blows up   neutral  0.440951"
      ]
     },
     "execution_count": 58,
     "metadata": {},
     "output_type": "execute_result"
    }
   ],
   "source": [
    "labeled = []\n",
    "for comment in tqdm(clean_comment):\n",
    "    try:\n",
    "        result = emotion_classifier(comment[:512])[0]\n",
    "        labeled.append({\n",
    "            \"comment\": comment,\n",
    "            \"label\": result[\"label\"],\n",
    "            \"score\": result[\"score\"]\n",
    "        })\n",
    "    except:\n",
    "        continue\n",
    "\n",
    "df = pd.DataFrame(labeled)\n",
    "df.to_csv(\"labeled_youtube_emotions.csv\", index=False)\n",
    "df.head()"
   ]
  },
  {
   "cell_type": "code",
   "execution_count": 59,
   "metadata": {
    "id": "hZU0wesjn8th"
   },
   "outputs": [],
   "source": [
    "df.to_csv('/content/drive/MyDrive/youtubesentiment/comments.csv', index=False)"
   ]
  },
  {
   "cell_type": "code",
   "execution_count": 5,
   "metadata": {
    "id": "O3x5z84xx9F9"
   },
   "outputs": [],
   "source": [
    "file_path = \"/content/drive/MyDrive/youtubesentiment/comments.csv\"\n",
    "df = pd.read_csv(file_path)"
   ]
  },
  {
   "cell_type": "code",
   "execution_count": 6,
   "metadata": {
    "id": "zFfXHOvordRi"
   },
   "outputs": [],
   "source": [
    "filtered_df = df[df[\"score\"] >= 0.7]"
   ]
  },
  {
   "cell_type": "code",
   "execution_count": 7,
   "metadata": {
    "colab": {
     "base_uri": "https://localhost:8080/",
     "height": 206
    },
    "id": "O8dJZaIjr9_6",
    "outputId": "1b84fd97-f3b8-439b-b94a-021f6fb3603d"
   },
   "outputs": [
    {
     "data": {
      "application/vnd.google.colaboratory.intrinsic+json": {
       "summary": "{\n  \"name\": \"filtered_df\",\n  \"rows\": 6138,\n  \"fields\": [\n    {\n      \"column\": \"comment\",\n      \"properties\": {\n        \"dtype\": \"string\",\n        \"num_unique_values\": 3806,\n        \"samples\": [\n          \"It's sad that Jesus didn't do what all finger skateboarders do\",\n          \"Kara, you certainly are an Eggs-pert at puns \\ud83d\\ude05\\ud83d\\ude05\",\n          \"maybe he shouldn't have pointed out the damage on the wings that he had to repair HAHA omg I would have said NOPE so fast after that comment. Guy bought a totaled plane to start his own airline. 3:45\"\n        ],\n        \"semantic_type\": \"\",\n        \"description\": \"\"\n      }\n    },\n    {\n      \"column\": \"label\",\n      \"properties\": {\n        \"dtype\": \"category\",\n        \"num_unique_values\": 7,\n        \"samples\": [\n          \"neutral\",\n          \"surprise\",\n          \"disgust\"\n        ],\n        \"semantic_type\": \"\",\n        \"description\": \"\"\n      }\n    },\n    {\n      \"column\": \"score\",\n      \"properties\": {\n        \"dtype\": \"number\",\n        \"std\": 0.07738381392542525,\n        \"min\": 0.7000141143798828,\n        \"max\": 0.9940401315689088,\n        \"num_unique_values\": 3804,\n        \"samples\": [\n          0.7377693057060242,\n          0.8343209028244019,\n          0.7816237211227417\n        ],\n        \"semantic_type\": \"\",\n        \"description\": \"\"\n      }\n    }\n  ]\n}",
       "type": "dataframe",
       "variable_name": "filtered_df"
      },
      "text/html": [
       "\n",
       "  <div id=\"df-2169232b-7723-4978-9c18-821a1732cee3\" class=\"colab-df-container\">\n",
       "    <div>\n",
       "<style scoped>\n",
       "    .dataframe tbody tr th:only-of-type {\n",
       "        vertical-align: middle;\n",
       "    }\n",
       "\n",
       "    .dataframe tbody tr th {\n",
       "        vertical-align: top;\n",
       "    }\n",
       "\n",
       "    .dataframe thead th {\n",
       "        text-align: right;\n",
       "    }\n",
       "</style>\n",
       "<table border=\"1\" class=\"dataframe\">\n",
       "  <thead>\n",
       "    <tr style=\"text-align: right;\">\n",
       "      <th></th>\n",
       "      <th>comment</th>\n",
       "      <th>label</th>\n",
       "      <th>score</th>\n",
       "    </tr>\n",
       "  </thead>\n",
       "  <tbody>\n",
       "    <tr>\n",
       "      <th>0</th>\n",
       "      <td>Subscribe and you might just race for a lambo :)</td>\n",
       "      <td>neutral</td>\n",
       "      <td>0.956268</td>\n",
       "    </tr>\n",
       "    <tr>\n",
       "      <th>2</th>\n",
       "      <td>I didn t expect to love this as much as I do</td>\n",
       "      <td>surprise</td>\n",
       "      <td>0.902146</td>\n",
       "    </tr>\n",
       "    <tr>\n",
       "      <th>5</th>\n",
       "      <td>This video randomly popped up and I m glad it did</td>\n",
       "      <td>joy</td>\n",
       "      <td>0.865352</td>\n",
       "    </tr>\n",
       "    <tr>\n",
       "      <th>6</th>\n",
       "      <td>This gave me chills… in the best way</td>\n",
       "      <td>joy</td>\n",
       "      <td>0.957328</td>\n",
       "    </tr>\n",
       "    <tr>\n",
       "      <th>8</th>\n",
       "      <td>I didn t expect to love this as much as I do</td>\n",
       "      <td>surprise</td>\n",
       "      <td>0.902146</td>\n",
       "    </tr>\n",
       "  </tbody>\n",
       "</table>\n",
       "</div>\n",
       "    <div class=\"colab-df-buttons\">\n",
       "\n",
       "  <div class=\"colab-df-container\">\n",
       "    <button class=\"colab-df-convert\" onclick=\"convertToInteractive('df-2169232b-7723-4978-9c18-821a1732cee3')\"\n",
       "            title=\"Convert this dataframe to an interactive table.\"\n",
       "            style=\"display:none;\">\n",
       "\n",
       "  <svg xmlns=\"http://www.w3.org/2000/svg\" height=\"24px\" viewBox=\"0 -960 960 960\">\n",
       "    <path d=\"M120-120v-720h720v720H120Zm60-500h600v-160H180v160Zm220 220h160v-160H400v160Zm0 220h160v-160H400v160ZM180-400h160v-160H180v160Zm440 0h160v-160H620v160ZM180-180h160v-160H180v160Zm440 0h160v-160H620v160Z\"/>\n",
       "  </svg>\n",
       "    </button>\n",
       "\n",
       "  <style>\n",
       "    .colab-df-container {\n",
       "      display:flex;\n",
       "      gap: 12px;\n",
       "    }\n",
       "\n",
       "    .colab-df-convert {\n",
       "      background-color: #E8F0FE;\n",
       "      border: none;\n",
       "      border-radius: 50%;\n",
       "      cursor: pointer;\n",
       "      display: none;\n",
       "      fill: #1967D2;\n",
       "      height: 32px;\n",
       "      padding: 0 0 0 0;\n",
       "      width: 32px;\n",
       "    }\n",
       "\n",
       "    .colab-df-convert:hover {\n",
       "      background-color: #E2EBFA;\n",
       "      box-shadow: 0px 1px 2px rgba(60, 64, 67, 0.3), 0px 1px 3px 1px rgba(60, 64, 67, 0.15);\n",
       "      fill: #174EA6;\n",
       "    }\n",
       "\n",
       "    .colab-df-buttons div {\n",
       "      margin-bottom: 4px;\n",
       "    }\n",
       "\n",
       "    [theme=dark] .colab-df-convert {\n",
       "      background-color: #3B4455;\n",
       "      fill: #D2E3FC;\n",
       "    }\n",
       "\n",
       "    [theme=dark] .colab-df-convert:hover {\n",
       "      background-color: #434B5C;\n",
       "      box-shadow: 0px 1px 3px 1px rgba(0, 0, 0, 0.15);\n",
       "      filter: drop-shadow(0px 1px 2px rgba(0, 0, 0, 0.3));\n",
       "      fill: #FFFFFF;\n",
       "    }\n",
       "  </style>\n",
       "\n",
       "    <script>\n",
       "      const buttonEl =\n",
       "        document.querySelector('#df-2169232b-7723-4978-9c18-821a1732cee3 button.colab-df-convert');\n",
       "      buttonEl.style.display =\n",
       "        google.colab.kernel.accessAllowed ? 'block' : 'none';\n",
       "\n",
       "      async function convertToInteractive(key) {\n",
       "        const element = document.querySelector('#df-2169232b-7723-4978-9c18-821a1732cee3');\n",
       "        const dataTable =\n",
       "          await google.colab.kernel.invokeFunction('convertToInteractive',\n",
       "                                                    [key], {});\n",
       "        if (!dataTable) return;\n",
       "\n",
       "        const docLinkHtml = 'Like what you see? Visit the ' +\n",
       "          '<a target=\"_blank\" href=https://colab.research.google.com/notebooks/data_table.ipynb>data table notebook</a>'\n",
       "          + ' to learn more about interactive tables.';\n",
       "        element.innerHTML = '';\n",
       "        dataTable['output_type'] = 'display_data';\n",
       "        await google.colab.output.renderOutput(dataTable, element);\n",
       "        const docLink = document.createElement('div');\n",
       "        docLink.innerHTML = docLinkHtml;\n",
       "        element.appendChild(docLink);\n",
       "      }\n",
       "    </script>\n",
       "  </div>\n",
       "\n",
       "\n",
       "    <div id=\"df-33dedd2f-e3a3-4361-b424-394c05bdf99e\">\n",
       "      <button class=\"colab-df-quickchart\" onclick=\"quickchart('df-33dedd2f-e3a3-4361-b424-394c05bdf99e')\"\n",
       "                title=\"Suggest charts\"\n",
       "                style=\"display:none;\">\n",
       "\n",
       "<svg xmlns=\"http://www.w3.org/2000/svg\" height=\"24px\"viewBox=\"0 0 24 24\"\n",
       "     width=\"24px\">\n",
       "    <g>\n",
       "        <path d=\"M19 3H5c-1.1 0-2 .9-2 2v14c0 1.1.9 2 2 2h14c1.1 0 2-.9 2-2V5c0-1.1-.9-2-2-2zM9 17H7v-7h2v7zm4 0h-2V7h2v10zm4 0h-2v-4h2v4z\"/>\n",
       "    </g>\n",
       "</svg>\n",
       "      </button>\n",
       "\n",
       "<style>\n",
       "  .colab-df-quickchart {\n",
       "      --bg-color: #E8F0FE;\n",
       "      --fill-color: #1967D2;\n",
       "      --hover-bg-color: #E2EBFA;\n",
       "      --hover-fill-color: #174EA6;\n",
       "      --disabled-fill-color: #AAA;\n",
       "      --disabled-bg-color: #DDD;\n",
       "  }\n",
       "\n",
       "  [theme=dark] .colab-df-quickchart {\n",
       "      --bg-color: #3B4455;\n",
       "      --fill-color: #D2E3FC;\n",
       "      --hover-bg-color: #434B5C;\n",
       "      --hover-fill-color: #FFFFFF;\n",
       "      --disabled-bg-color: #3B4455;\n",
       "      --disabled-fill-color: #666;\n",
       "  }\n",
       "\n",
       "  .colab-df-quickchart {\n",
       "    background-color: var(--bg-color);\n",
       "    border: none;\n",
       "    border-radius: 50%;\n",
       "    cursor: pointer;\n",
       "    display: none;\n",
       "    fill: var(--fill-color);\n",
       "    height: 32px;\n",
       "    padding: 0;\n",
       "    width: 32px;\n",
       "  }\n",
       "\n",
       "  .colab-df-quickchart:hover {\n",
       "    background-color: var(--hover-bg-color);\n",
       "    box-shadow: 0 1px 2px rgba(60, 64, 67, 0.3), 0 1px 3px 1px rgba(60, 64, 67, 0.15);\n",
       "    fill: var(--button-hover-fill-color);\n",
       "  }\n",
       "\n",
       "  .colab-df-quickchart-complete:disabled,\n",
       "  .colab-df-quickchart-complete:disabled:hover {\n",
       "    background-color: var(--disabled-bg-color);\n",
       "    fill: var(--disabled-fill-color);\n",
       "    box-shadow: none;\n",
       "  }\n",
       "\n",
       "  .colab-df-spinner {\n",
       "    border: 2px solid var(--fill-color);\n",
       "    border-color: transparent;\n",
       "    border-bottom-color: var(--fill-color);\n",
       "    animation:\n",
       "      spin 1s steps(1) infinite;\n",
       "  }\n",
       "\n",
       "  @keyframes spin {\n",
       "    0% {\n",
       "      border-color: transparent;\n",
       "      border-bottom-color: var(--fill-color);\n",
       "      border-left-color: var(--fill-color);\n",
       "    }\n",
       "    20% {\n",
       "      border-color: transparent;\n",
       "      border-left-color: var(--fill-color);\n",
       "      border-top-color: var(--fill-color);\n",
       "    }\n",
       "    30% {\n",
       "      border-color: transparent;\n",
       "      border-left-color: var(--fill-color);\n",
       "      border-top-color: var(--fill-color);\n",
       "      border-right-color: var(--fill-color);\n",
       "    }\n",
       "    40% {\n",
       "      border-color: transparent;\n",
       "      border-right-color: var(--fill-color);\n",
       "      border-top-color: var(--fill-color);\n",
       "    }\n",
       "    60% {\n",
       "      border-color: transparent;\n",
       "      border-right-color: var(--fill-color);\n",
       "    }\n",
       "    80% {\n",
       "      border-color: transparent;\n",
       "      border-right-color: var(--fill-color);\n",
       "      border-bottom-color: var(--fill-color);\n",
       "    }\n",
       "    90% {\n",
       "      border-color: transparent;\n",
       "      border-bottom-color: var(--fill-color);\n",
       "    }\n",
       "  }\n",
       "</style>\n",
       "\n",
       "      <script>\n",
       "        async function quickchart(key) {\n",
       "          const quickchartButtonEl =\n",
       "            document.querySelector('#' + key + ' button');\n",
       "          quickchartButtonEl.disabled = true;  // To prevent multiple clicks.\n",
       "          quickchartButtonEl.classList.add('colab-df-spinner');\n",
       "          try {\n",
       "            const charts = await google.colab.kernel.invokeFunction(\n",
       "                'suggestCharts', [key], {});\n",
       "          } catch (error) {\n",
       "            console.error('Error during call to suggestCharts:', error);\n",
       "          }\n",
       "          quickchartButtonEl.classList.remove('colab-df-spinner');\n",
       "          quickchartButtonEl.classList.add('colab-df-quickchart-complete');\n",
       "        }\n",
       "        (() => {\n",
       "          let quickchartButtonEl =\n",
       "            document.querySelector('#df-33dedd2f-e3a3-4361-b424-394c05bdf99e button');\n",
       "          quickchartButtonEl.style.display =\n",
       "            google.colab.kernel.accessAllowed ? 'block' : 'none';\n",
       "        })();\n",
       "      </script>\n",
       "    </div>\n",
       "\n",
       "    </div>\n",
       "  </div>\n"
      ],
      "text/plain": [
       "                                             comment     label     score\n",
       "0   Subscribe and you might just race for a lambo :)   neutral  0.956268\n",
       "2       I didn t expect to love this as much as I do  surprise  0.902146\n",
       "5  This video randomly popped up and I m glad it did       joy  0.865352\n",
       "6               This gave me chills… in the best way       joy  0.957328\n",
       "8       I didn t expect to love this as much as I do  surprise  0.902146"
      ]
     },
     "execution_count": 7,
     "metadata": {},
     "output_type": "execute_result"
    }
   ],
   "source": [
    "filtered_df.head()"
   ]
  },
  {
   "cell_type": "code",
   "execution_count": 8,
   "metadata": {
    "colab": {
     "base_uri": "https://localhost:8080/",
     "height": 300
    },
    "id": "7j-WQzoZr_QV",
    "outputId": "354742a8-2324-4821-de7f-5a7b48472975"
   },
   "outputs": [
    {
     "data": {
      "application/vnd.google.colaboratory.intrinsic+json": {
       "summary": "{\n  \"name\": \"filtered_df\",\n  \"rows\": 8,\n  \"fields\": [\n    {\n      \"column\": \"score\",\n      \"properties\": {\n        \"dtype\": \"number\",\n        \"std\": 2169.847791524376,\n        \"min\": 0.07738381392542525,\n        \"max\": 6138.0,\n        \"num_unique_values\": 8,\n        \"samples\": [\n          0.8590336255255799,\n          0.8678196668624878,\n          6138.0\n        ],\n        \"semantic_type\": \"\",\n        \"description\": \"\"\n      }\n    }\n  ]\n}",
       "type": "dataframe"
      },
      "text/html": [
       "\n",
       "  <div id=\"df-e5b86fd0-b88d-4551-aed2-8cf987edacd3\" class=\"colab-df-container\">\n",
       "    <div>\n",
       "<style scoped>\n",
       "    .dataframe tbody tr th:only-of-type {\n",
       "        vertical-align: middle;\n",
       "    }\n",
       "\n",
       "    .dataframe tbody tr th {\n",
       "        vertical-align: top;\n",
       "    }\n",
       "\n",
       "    .dataframe thead th {\n",
       "        text-align: right;\n",
       "    }\n",
       "</style>\n",
       "<table border=\"1\" class=\"dataframe\">\n",
       "  <thead>\n",
       "    <tr style=\"text-align: right;\">\n",
       "      <th></th>\n",
       "      <th>score</th>\n",
       "    </tr>\n",
       "  </thead>\n",
       "  <tbody>\n",
       "    <tr>\n",
       "      <th>count</th>\n",
       "      <td>6138.000000</td>\n",
       "    </tr>\n",
       "    <tr>\n",
       "      <th>mean</th>\n",
       "      <td>0.859034</td>\n",
       "    </tr>\n",
       "    <tr>\n",
       "      <th>std</th>\n",
       "      <td>0.077384</td>\n",
       "    </tr>\n",
       "    <tr>\n",
       "      <th>min</th>\n",
       "      <td>0.700014</td>\n",
       "    </tr>\n",
       "    <tr>\n",
       "      <th>25%</th>\n",
       "      <td>0.785085</td>\n",
       "    </tr>\n",
       "    <tr>\n",
       "      <th>50%</th>\n",
       "      <td>0.867820</td>\n",
       "    </tr>\n",
       "    <tr>\n",
       "      <th>75%</th>\n",
       "      <td>0.922545</td>\n",
       "    </tr>\n",
       "    <tr>\n",
       "      <th>max</th>\n",
       "      <td>0.994040</td>\n",
       "    </tr>\n",
       "  </tbody>\n",
       "</table>\n",
       "</div>\n",
       "    <div class=\"colab-df-buttons\">\n",
       "\n",
       "  <div class=\"colab-df-container\">\n",
       "    <button class=\"colab-df-convert\" onclick=\"convertToInteractive('df-e5b86fd0-b88d-4551-aed2-8cf987edacd3')\"\n",
       "            title=\"Convert this dataframe to an interactive table.\"\n",
       "            style=\"display:none;\">\n",
       "\n",
       "  <svg xmlns=\"http://www.w3.org/2000/svg\" height=\"24px\" viewBox=\"0 -960 960 960\">\n",
       "    <path d=\"M120-120v-720h720v720H120Zm60-500h600v-160H180v160Zm220 220h160v-160H400v160Zm0 220h160v-160H400v160ZM180-400h160v-160H180v160Zm440 0h160v-160H620v160ZM180-180h160v-160H180v160Zm440 0h160v-160H620v160Z\"/>\n",
       "  </svg>\n",
       "    </button>\n",
       "\n",
       "  <style>\n",
       "    .colab-df-container {\n",
       "      display:flex;\n",
       "      gap: 12px;\n",
       "    }\n",
       "\n",
       "    .colab-df-convert {\n",
       "      background-color: #E8F0FE;\n",
       "      border: none;\n",
       "      border-radius: 50%;\n",
       "      cursor: pointer;\n",
       "      display: none;\n",
       "      fill: #1967D2;\n",
       "      height: 32px;\n",
       "      padding: 0 0 0 0;\n",
       "      width: 32px;\n",
       "    }\n",
       "\n",
       "    .colab-df-convert:hover {\n",
       "      background-color: #E2EBFA;\n",
       "      box-shadow: 0px 1px 2px rgba(60, 64, 67, 0.3), 0px 1px 3px 1px rgba(60, 64, 67, 0.15);\n",
       "      fill: #174EA6;\n",
       "    }\n",
       "\n",
       "    .colab-df-buttons div {\n",
       "      margin-bottom: 4px;\n",
       "    }\n",
       "\n",
       "    [theme=dark] .colab-df-convert {\n",
       "      background-color: #3B4455;\n",
       "      fill: #D2E3FC;\n",
       "    }\n",
       "\n",
       "    [theme=dark] .colab-df-convert:hover {\n",
       "      background-color: #434B5C;\n",
       "      box-shadow: 0px 1px 3px 1px rgba(0, 0, 0, 0.15);\n",
       "      filter: drop-shadow(0px 1px 2px rgba(0, 0, 0, 0.3));\n",
       "      fill: #FFFFFF;\n",
       "    }\n",
       "  </style>\n",
       "\n",
       "    <script>\n",
       "      const buttonEl =\n",
       "        document.querySelector('#df-e5b86fd0-b88d-4551-aed2-8cf987edacd3 button.colab-df-convert');\n",
       "      buttonEl.style.display =\n",
       "        google.colab.kernel.accessAllowed ? 'block' : 'none';\n",
       "\n",
       "      async function convertToInteractive(key) {\n",
       "        const element = document.querySelector('#df-e5b86fd0-b88d-4551-aed2-8cf987edacd3');\n",
       "        const dataTable =\n",
       "          await google.colab.kernel.invokeFunction('convertToInteractive',\n",
       "                                                    [key], {});\n",
       "        if (!dataTable) return;\n",
       "\n",
       "        const docLinkHtml = 'Like what you see? Visit the ' +\n",
       "          '<a target=\"_blank\" href=https://colab.research.google.com/notebooks/data_table.ipynb>data table notebook</a>'\n",
       "          + ' to learn more about interactive tables.';\n",
       "        element.innerHTML = '';\n",
       "        dataTable['output_type'] = 'display_data';\n",
       "        await google.colab.output.renderOutput(dataTable, element);\n",
       "        const docLink = document.createElement('div');\n",
       "        docLink.innerHTML = docLinkHtml;\n",
       "        element.appendChild(docLink);\n",
       "      }\n",
       "    </script>\n",
       "  </div>\n",
       "\n",
       "\n",
       "    <div id=\"df-6e3ae39c-76a1-43a9-9c5b-7e8b830f2700\">\n",
       "      <button class=\"colab-df-quickchart\" onclick=\"quickchart('df-6e3ae39c-76a1-43a9-9c5b-7e8b830f2700')\"\n",
       "                title=\"Suggest charts\"\n",
       "                style=\"display:none;\">\n",
       "\n",
       "<svg xmlns=\"http://www.w3.org/2000/svg\" height=\"24px\"viewBox=\"0 0 24 24\"\n",
       "     width=\"24px\">\n",
       "    <g>\n",
       "        <path d=\"M19 3H5c-1.1 0-2 .9-2 2v14c0 1.1.9 2 2 2h14c1.1 0 2-.9 2-2V5c0-1.1-.9-2-2-2zM9 17H7v-7h2v7zm4 0h-2V7h2v10zm4 0h-2v-4h2v4z\"/>\n",
       "    </g>\n",
       "</svg>\n",
       "      </button>\n",
       "\n",
       "<style>\n",
       "  .colab-df-quickchart {\n",
       "      --bg-color: #E8F0FE;\n",
       "      --fill-color: #1967D2;\n",
       "      --hover-bg-color: #E2EBFA;\n",
       "      --hover-fill-color: #174EA6;\n",
       "      --disabled-fill-color: #AAA;\n",
       "      --disabled-bg-color: #DDD;\n",
       "  }\n",
       "\n",
       "  [theme=dark] .colab-df-quickchart {\n",
       "      --bg-color: #3B4455;\n",
       "      --fill-color: #D2E3FC;\n",
       "      --hover-bg-color: #434B5C;\n",
       "      --hover-fill-color: #FFFFFF;\n",
       "      --disabled-bg-color: #3B4455;\n",
       "      --disabled-fill-color: #666;\n",
       "  }\n",
       "\n",
       "  .colab-df-quickchart {\n",
       "    background-color: var(--bg-color);\n",
       "    border: none;\n",
       "    border-radius: 50%;\n",
       "    cursor: pointer;\n",
       "    display: none;\n",
       "    fill: var(--fill-color);\n",
       "    height: 32px;\n",
       "    padding: 0;\n",
       "    width: 32px;\n",
       "  }\n",
       "\n",
       "  .colab-df-quickchart:hover {\n",
       "    background-color: var(--hover-bg-color);\n",
       "    box-shadow: 0 1px 2px rgba(60, 64, 67, 0.3), 0 1px 3px 1px rgba(60, 64, 67, 0.15);\n",
       "    fill: var(--button-hover-fill-color);\n",
       "  }\n",
       "\n",
       "  .colab-df-quickchart-complete:disabled,\n",
       "  .colab-df-quickchart-complete:disabled:hover {\n",
       "    background-color: var(--disabled-bg-color);\n",
       "    fill: var(--disabled-fill-color);\n",
       "    box-shadow: none;\n",
       "  }\n",
       "\n",
       "  .colab-df-spinner {\n",
       "    border: 2px solid var(--fill-color);\n",
       "    border-color: transparent;\n",
       "    border-bottom-color: var(--fill-color);\n",
       "    animation:\n",
       "      spin 1s steps(1) infinite;\n",
       "  }\n",
       "\n",
       "  @keyframes spin {\n",
       "    0% {\n",
       "      border-color: transparent;\n",
       "      border-bottom-color: var(--fill-color);\n",
       "      border-left-color: var(--fill-color);\n",
       "    }\n",
       "    20% {\n",
       "      border-color: transparent;\n",
       "      border-left-color: var(--fill-color);\n",
       "      border-top-color: var(--fill-color);\n",
       "    }\n",
       "    30% {\n",
       "      border-color: transparent;\n",
       "      border-left-color: var(--fill-color);\n",
       "      border-top-color: var(--fill-color);\n",
       "      border-right-color: var(--fill-color);\n",
       "    }\n",
       "    40% {\n",
       "      border-color: transparent;\n",
       "      border-right-color: var(--fill-color);\n",
       "      border-top-color: var(--fill-color);\n",
       "    }\n",
       "    60% {\n",
       "      border-color: transparent;\n",
       "      border-right-color: var(--fill-color);\n",
       "    }\n",
       "    80% {\n",
       "      border-color: transparent;\n",
       "      border-right-color: var(--fill-color);\n",
       "      border-bottom-color: var(--fill-color);\n",
       "    }\n",
       "    90% {\n",
       "      border-color: transparent;\n",
       "      border-bottom-color: var(--fill-color);\n",
       "    }\n",
       "  }\n",
       "</style>\n",
       "\n",
       "      <script>\n",
       "        async function quickchart(key) {\n",
       "          const quickchartButtonEl =\n",
       "            document.querySelector('#' + key + ' button');\n",
       "          quickchartButtonEl.disabled = true;  // To prevent multiple clicks.\n",
       "          quickchartButtonEl.classList.add('colab-df-spinner');\n",
       "          try {\n",
       "            const charts = await google.colab.kernel.invokeFunction(\n",
       "                'suggestCharts', [key], {});\n",
       "          } catch (error) {\n",
       "            console.error('Error during call to suggestCharts:', error);\n",
       "          }\n",
       "          quickchartButtonEl.classList.remove('colab-df-spinner');\n",
       "          quickchartButtonEl.classList.add('colab-df-quickchart-complete');\n",
       "        }\n",
       "        (() => {\n",
       "          let quickchartButtonEl =\n",
       "            document.querySelector('#df-6e3ae39c-76a1-43a9-9c5b-7e8b830f2700 button');\n",
       "          quickchartButtonEl.style.display =\n",
       "            google.colab.kernel.accessAllowed ? 'block' : 'none';\n",
       "        })();\n",
       "      </script>\n",
       "    </div>\n",
       "\n",
       "    </div>\n",
       "  </div>\n"
      ],
      "text/plain": [
       "             score\n",
       "count  6138.000000\n",
       "mean      0.859034\n",
       "std       0.077384\n",
       "min       0.700014\n",
       "25%       0.785085\n",
       "50%       0.867820\n",
       "75%       0.922545\n",
       "max       0.994040"
      ]
     },
     "execution_count": 8,
     "metadata": {},
     "output_type": "execute_result"
    }
   ],
   "source": [
    "filtered_df.describe()"
   ]
  },
  {
   "cell_type": "code",
   "execution_count": 9,
   "metadata": {
    "colab": {
     "base_uri": "https://localhost:8080/"
    },
    "id": "mPuT2XujsGo5",
    "outputId": "37d60660-4012-45ee-c084-91d816849eab"
   },
   "outputs": [
    {
     "data": {
      "text/plain": [
       "6138"
      ]
     },
     "execution_count": 9,
     "metadata": {},
     "output_type": "execute_result"
    }
   ],
   "source": [
    "len(filtered_df)"
   ]
  },
  {
   "cell_type": "code",
   "execution_count": 10,
   "metadata": {
    "id": "QvgH_1uvsKL1"
   },
   "outputs": [],
   "source": [
    "dataset=filtered_df #Final dataset with confindence value>0.7 for increased accuracy in fine tuning"
   ]
  },
  {
   "cell_type": "markdown",
   "metadata": {
    "id": "PeREjzfes7xF"
   },
   "source": [
    "Fine tuning DistilRoBERTa"
   ]
  },
  {
   "cell_type": "code",
   "execution_count": 11,
   "metadata": {
    "id": "mvw6YL4ZscbH"
   },
   "outputs": [],
   "source": [
    "from datasets import Dataset\n",
    "from transformers import AutoTokenizer, AutoModelForSequenceClassification, TrainingArguments, Trainer\n",
    "from sklearn.preprocessing import LabelEncoder\n",
    "from sklearn.model_selection import train_test_split"
   ]
  },
  {
   "cell_type": "code",
   "execution_count": 12,
   "metadata": {
    "colab": {
     "base_uri": "https://localhost:8080/",
     "height": 423
    },
    "id": "KsP4sL9Zt4G6",
    "outputId": "827510e2-7767-4682-f416-cd8609041766"
   },
   "outputs": [
    {
     "data": {
      "application/vnd.google.colaboratory.intrinsic+json": {
       "summary": "{\n  \"name\": \"dataset\",\n  \"rows\": 6138,\n  \"fields\": [\n    {\n      \"column\": \"comment\",\n      \"properties\": {\n        \"dtype\": \"string\",\n        \"num_unique_values\": 3806,\n        \"samples\": [\n          \"It's sad that Jesus didn't do what all finger skateboarders do\",\n          \"Kara, you certainly are an Eggs-pert at puns \\ud83d\\ude05\\ud83d\\ude05\",\n          \"maybe he shouldn't have pointed out the damage on the wings that he had to repair HAHA omg I would have said NOPE so fast after that comment. Guy bought a totaled plane to start his own airline. 3:45\"\n        ],\n        \"semantic_type\": \"\",\n        \"description\": \"\"\n      }\n    },\n    {\n      \"column\": \"label\",\n      \"properties\": {\n        \"dtype\": \"category\",\n        \"num_unique_values\": 7,\n        \"samples\": [\n          \"neutral\",\n          \"surprise\",\n          \"disgust\"\n        ],\n        \"semantic_type\": \"\",\n        \"description\": \"\"\n      }\n    }\n  ]\n}",
       "type": "dataframe",
       "variable_name": "dataset"
      },
      "text/html": [
       "\n",
       "  <div id=\"df-d05164e0-1d93-4fd8-88cb-72476b5a3a21\" class=\"colab-df-container\">\n",
       "    <div>\n",
       "<style scoped>\n",
       "    .dataframe tbody tr th:only-of-type {\n",
       "        vertical-align: middle;\n",
       "    }\n",
       "\n",
       "    .dataframe tbody tr th {\n",
       "        vertical-align: top;\n",
       "    }\n",
       "\n",
       "    .dataframe thead th {\n",
       "        text-align: right;\n",
       "    }\n",
       "</style>\n",
       "<table border=\"1\" class=\"dataframe\">\n",
       "  <thead>\n",
       "    <tr style=\"text-align: right;\">\n",
       "      <th></th>\n",
       "      <th>comment</th>\n",
       "      <th>label</th>\n",
       "    </tr>\n",
       "  </thead>\n",
       "  <tbody>\n",
       "    <tr>\n",
       "      <th>0</th>\n",
       "      <td>Subscribe and you might just race for a lambo :)</td>\n",
       "      <td>neutral</td>\n",
       "    </tr>\n",
       "    <tr>\n",
       "      <th>2</th>\n",
       "      <td>I didn t expect to love this as much as I do</td>\n",
       "      <td>surprise</td>\n",
       "    </tr>\n",
       "    <tr>\n",
       "      <th>5</th>\n",
       "      <td>This video randomly popped up and I m glad it did</td>\n",
       "      <td>joy</td>\n",
       "    </tr>\n",
       "    <tr>\n",
       "      <th>6</th>\n",
       "      <td>This gave me chills… in the best way</td>\n",
       "      <td>joy</td>\n",
       "    </tr>\n",
       "    <tr>\n",
       "      <th>8</th>\n",
       "      <td>I didn t expect to love this as much as I do</td>\n",
       "      <td>surprise</td>\n",
       "    </tr>\n",
       "    <tr>\n",
       "      <th>...</th>\n",
       "      <td>...</td>\n",
       "      <td>...</td>\n",
       "    </tr>\n",
       "    <tr>\n",
       "      <th>10459</th>\n",
       "      <td>16:30 to 17:34 is hilarious. How do I like you...</td>\n",
       "      <td>joy</td>\n",
       "    </tr>\n",
       "    <tr>\n",
       "      <th>10461</th>\n",
       "      <td>You know that the 82nd Airborne is the 18th Ai...</td>\n",
       "      <td>anger</td>\n",
       "    </tr>\n",
       "    <tr>\n",
       "      <th>10462</th>\n",
       "      <td>the 2 places i learn history fat electrician a...</td>\n",
       "      <td>joy</td>\n",
       "    </tr>\n",
       "    <tr>\n",
       "      <th>10465</th>\n",
       "      <td>I'm sitting here watching clips from the movie...</td>\n",
       "      <td>surprise</td>\n",
       "    </tr>\n",
       "    <tr>\n",
       "      <th>10466</th>\n",
       "      <td>Eh 2 peter 2:1-8</td>\n",
       "      <td>neutral</td>\n",
       "    </tr>\n",
       "  </tbody>\n",
       "</table>\n",
       "<p>6138 rows × 2 columns</p>\n",
       "</div>\n",
       "    <div class=\"colab-df-buttons\">\n",
       "\n",
       "  <div class=\"colab-df-container\">\n",
       "    <button class=\"colab-df-convert\" onclick=\"convertToInteractive('df-d05164e0-1d93-4fd8-88cb-72476b5a3a21')\"\n",
       "            title=\"Convert this dataframe to an interactive table.\"\n",
       "            style=\"display:none;\">\n",
       "\n",
       "  <svg xmlns=\"http://www.w3.org/2000/svg\" height=\"24px\" viewBox=\"0 -960 960 960\">\n",
       "    <path d=\"M120-120v-720h720v720H120Zm60-500h600v-160H180v160Zm220 220h160v-160H400v160Zm0 220h160v-160H400v160ZM180-400h160v-160H180v160Zm440 0h160v-160H620v160ZM180-180h160v-160H180v160Zm440 0h160v-160H620v160Z\"/>\n",
       "  </svg>\n",
       "    </button>\n",
       "\n",
       "  <style>\n",
       "    .colab-df-container {\n",
       "      display:flex;\n",
       "      gap: 12px;\n",
       "    }\n",
       "\n",
       "    .colab-df-convert {\n",
       "      background-color: #E8F0FE;\n",
       "      border: none;\n",
       "      border-radius: 50%;\n",
       "      cursor: pointer;\n",
       "      display: none;\n",
       "      fill: #1967D2;\n",
       "      height: 32px;\n",
       "      padding: 0 0 0 0;\n",
       "      width: 32px;\n",
       "    }\n",
       "\n",
       "    .colab-df-convert:hover {\n",
       "      background-color: #E2EBFA;\n",
       "      box-shadow: 0px 1px 2px rgba(60, 64, 67, 0.3), 0px 1px 3px 1px rgba(60, 64, 67, 0.15);\n",
       "      fill: #174EA6;\n",
       "    }\n",
       "\n",
       "    .colab-df-buttons div {\n",
       "      margin-bottom: 4px;\n",
       "    }\n",
       "\n",
       "    [theme=dark] .colab-df-convert {\n",
       "      background-color: #3B4455;\n",
       "      fill: #D2E3FC;\n",
       "    }\n",
       "\n",
       "    [theme=dark] .colab-df-convert:hover {\n",
       "      background-color: #434B5C;\n",
       "      box-shadow: 0px 1px 3px 1px rgba(0, 0, 0, 0.15);\n",
       "      filter: drop-shadow(0px 1px 2px rgba(0, 0, 0, 0.3));\n",
       "      fill: #FFFFFF;\n",
       "    }\n",
       "  </style>\n",
       "\n",
       "    <script>\n",
       "      const buttonEl =\n",
       "        document.querySelector('#df-d05164e0-1d93-4fd8-88cb-72476b5a3a21 button.colab-df-convert');\n",
       "      buttonEl.style.display =\n",
       "        google.colab.kernel.accessAllowed ? 'block' : 'none';\n",
       "\n",
       "      async function convertToInteractive(key) {\n",
       "        const element = document.querySelector('#df-d05164e0-1d93-4fd8-88cb-72476b5a3a21');\n",
       "        const dataTable =\n",
       "          await google.colab.kernel.invokeFunction('convertToInteractive',\n",
       "                                                    [key], {});\n",
       "        if (!dataTable) return;\n",
       "\n",
       "        const docLinkHtml = 'Like what you see? Visit the ' +\n",
       "          '<a target=\"_blank\" href=https://colab.research.google.com/notebooks/data_table.ipynb>data table notebook</a>'\n",
       "          + ' to learn more about interactive tables.';\n",
       "        element.innerHTML = '';\n",
       "        dataTable['output_type'] = 'display_data';\n",
       "        await google.colab.output.renderOutput(dataTable, element);\n",
       "        const docLink = document.createElement('div');\n",
       "        docLink.innerHTML = docLinkHtml;\n",
       "        element.appendChild(docLink);\n",
       "      }\n",
       "    </script>\n",
       "  </div>\n",
       "\n",
       "\n",
       "    <div id=\"df-38645eb8-ebff-4290-bad5-0b153f650416\">\n",
       "      <button class=\"colab-df-quickchart\" onclick=\"quickchart('df-38645eb8-ebff-4290-bad5-0b153f650416')\"\n",
       "                title=\"Suggest charts\"\n",
       "                style=\"display:none;\">\n",
       "\n",
       "<svg xmlns=\"http://www.w3.org/2000/svg\" height=\"24px\"viewBox=\"0 0 24 24\"\n",
       "     width=\"24px\">\n",
       "    <g>\n",
       "        <path d=\"M19 3H5c-1.1 0-2 .9-2 2v14c0 1.1.9 2 2 2h14c1.1 0 2-.9 2-2V5c0-1.1-.9-2-2-2zM9 17H7v-7h2v7zm4 0h-2V7h2v10zm4 0h-2v-4h2v4z\"/>\n",
       "    </g>\n",
       "</svg>\n",
       "      </button>\n",
       "\n",
       "<style>\n",
       "  .colab-df-quickchart {\n",
       "      --bg-color: #E8F0FE;\n",
       "      --fill-color: #1967D2;\n",
       "      --hover-bg-color: #E2EBFA;\n",
       "      --hover-fill-color: #174EA6;\n",
       "      --disabled-fill-color: #AAA;\n",
       "      --disabled-bg-color: #DDD;\n",
       "  }\n",
       "\n",
       "  [theme=dark] .colab-df-quickchart {\n",
       "      --bg-color: #3B4455;\n",
       "      --fill-color: #D2E3FC;\n",
       "      --hover-bg-color: #434B5C;\n",
       "      --hover-fill-color: #FFFFFF;\n",
       "      --disabled-bg-color: #3B4455;\n",
       "      --disabled-fill-color: #666;\n",
       "  }\n",
       "\n",
       "  .colab-df-quickchart {\n",
       "    background-color: var(--bg-color);\n",
       "    border: none;\n",
       "    border-radius: 50%;\n",
       "    cursor: pointer;\n",
       "    display: none;\n",
       "    fill: var(--fill-color);\n",
       "    height: 32px;\n",
       "    padding: 0;\n",
       "    width: 32px;\n",
       "  }\n",
       "\n",
       "  .colab-df-quickchart:hover {\n",
       "    background-color: var(--hover-bg-color);\n",
       "    box-shadow: 0 1px 2px rgba(60, 64, 67, 0.3), 0 1px 3px 1px rgba(60, 64, 67, 0.15);\n",
       "    fill: var(--button-hover-fill-color);\n",
       "  }\n",
       "\n",
       "  .colab-df-quickchart-complete:disabled,\n",
       "  .colab-df-quickchart-complete:disabled:hover {\n",
       "    background-color: var(--disabled-bg-color);\n",
       "    fill: var(--disabled-fill-color);\n",
       "    box-shadow: none;\n",
       "  }\n",
       "\n",
       "  .colab-df-spinner {\n",
       "    border: 2px solid var(--fill-color);\n",
       "    border-color: transparent;\n",
       "    border-bottom-color: var(--fill-color);\n",
       "    animation:\n",
       "      spin 1s steps(1) infinite;\n",
       "  }\n",
       "\n",
       "  @keyframes spin {\n",
       "    0% {\n",
       "      border-color: transparent;\n",
       "      border-bottom-color: var(--fill-color);\n",
       "      border-left-color: var(--fill-color);\n",
       "    }\n",
       "    20% {\n",
       "      border-color: transparent;\n",
       "      border-left-color: var(--fill-color);\n",
       "      border-top-color: var(--fill-color);\n",
       "    }\n",
       "    30% {\n",
       "      border-color: transparent;\n",
       "      border-left-color: var(--fill-color);\n",
       "      border-top-color: var(--fill-color);\n",
       "      border-right-color: var(--fill-color);\n",
       "    }\n",
       "    40% {\n",
       "      border-color: transparent;\n",
       "      border-right-color: var(--fill-color);\n",
       "      border-top-color: var(--fill-color);\n",
       "    }\n",
       "    60% {\n",
       "      border-color: transparent;\n",
       "      border-right-color: var(--fill-color);\n",
       "    }\n",
       "    80% {\n",
       "      border-color: transparent;\n",
       "      border-right-color: var(--fill-color);\n",
       "      border-bottom-color: var(--fill-color);\n",
       "    }\n",
       "    90% {\n",
       "      border-color: transparent;\n",
       "      border-bottom-color: var(--fill-color);\n",
       "    }\n",
       "  }\n",
       "</style>\n",
       "\n",
       "      <script>\n",
       "        async function quickchart(key) {\n",
       "          const quickchartButtonEl =\n",
       "            document.querySelector('#' + key + ' button');\n",
       "          quickchartButtonEl.disabled = true;  // To prevent multiple clicks.\n",
       "          quickchartButtonEl.classList.add('colab-df-spinner');\n",
       "          try {\n",
       "            const charts = await google.colab.kernel.invokeFunction(\n",
       "                'suggestCharts', [key], {});\n",
       "          } catch (error) {\n",
       "            console.error('Error during call to suggestCharts:', error);\n",
       "          }\n",
       "          quickchartButtonEl.classList.remove('colab-df-spinner');\n",
       "          quickchartButtonEl.classList.add('colab-df-quickchart-complete');\n",
       "        }\n",
       "        (() => {\n",
       "          let quickchartButtonEl =\n",
       "            document.querySelector('#df-38645eb8-ebff-4290-bad5-0b153f650416 button');\n",
       "          quickchartButtonEl.style.display =\n",
       "            google.colab.kernel.accessAllowed ? 'block' : 'none';\n",
       "        })();\n",
       "      </script>\n",
       "    </div>\n",
       "\n",
       "  <div id=\"id_dc8a515c-f8e3-4822-a54b-eadc98a6c427\">\n",
       "    <style>\n",
       "      .colab-df-generate {\n",
       "        background-color: #E8F0FE;\n",
       "        border: none;\n",
       "        border-radius: 50%;\n",
       "        cursor: pointer;\n",
       "        display: none;\n",
       "        fill: #1967D2;\n",
       "        height: 32px;\n",
       "        padding: 0 0 0 0;\n",
       "        width: 32px;\n",
       "      }\n",
       "\n",
       "      .colab-df-generate:hover {\n",
       "        background-color: #E2EBFA;\n",
       "        box-shadow: 0px 1px 2px rgba(60, 64, 67, 0.3), 0px 1px 3px 1px rgba(60, 64, 67, 0.15);\n",
       "        fill: #174EA6;\n",
       "      }\n",
       "\n",
       "      [theme=dark] .colab-df-generate {\n",
       "        background-color: #3B4455;\n",
       "        fill: #D2E3FC;\n",
       "      }\n",
       "\n",
       "      [theme=dark] .colab-df-generate:hover {\n",
       "        background-color: #434B5C;\n",
       "        box-shadow: 0px 1px 3px 1px rgba(0, 0, 0, 0.15);\n",
       "        filter: drop-shadow(0px 1px 2px rgba(0, 0, 0, 0.3));\n",
       "        fill: #FFFFFF;\n",
       "      }\n",
       "    </style>\n",
       "    <button class=\"colab-df-generate\" onclick=\"generateWithVariable('dataset')\"\n",
       "            title=\"Generate code using this dataframe.\"\n",
       "            style=\"display:none;\">\n",
       "\n",
       "  <svg xmlns=\"http://www.w3.org/2000/svg\" height=\"24px\"viewBox=\"0 0 24 24\"\n",
       "       width=\"24px\">\n",
       "    <path d=\"M7,19H8.4L18.45,9,17,7.55,7,17.6ZM5,21V16.75L18.45,3.32a2,2,0,0,1,2.83,0l1.4,1.43a1.91,1.91,0,0,1,.58,1.4,1.91,1.91,0,0,1-.58,1.4L9.25,21ZM18.45,9,17,7.55Zm-12,3A5.31,5.31,0,0,0,4.9,8.1,5.31,5.31,0,0,0,1,6.5,5.31,5.31,0,0,0,4.9,4.9,5.31,5.31,0,0,0,6.5,1,5.31,5.31,0,0,0,8.1,4.9,5.31,5.31,0,0,0,12,6.5,5.46,5.46,0,0,0,6.5,12Z\"/>\n",
       "  </svg>\n",
       "    </button>\n",
       "    <script>\n",
       "      (() => {\n",
       "      const buttonEl =\n",
       "        document.querySelector('#id_dc8a515c-f8e3-4822-a54b-eadc98a6c427 button.colab-df-generate');\n",
       "      buttonEl.style.display =\n",
       "        google.colab.kernel.accessAllowed ? 'block' : 'none';\n",
       "\n",
       "      buttonEl.onclick = () => {\n",
       "        google.colab.notebook.generateWithVariable('dataset');\n",
       "      }\n",
       "      })();\n",
       "    </script>\n",
       "  </div>\n",
       "\n",
       "    </div>\n",
       "  </div>\n"
      ],
      "text/plain": [
       "                                                 comment     label\n",
       "0       Subscribe and you might just race for a lambo :)   neutral\n",
       "2           I didn t expect to love this as much as I do  surprise\n",
       "5      This video randomly popped up and I m glad it did       joy\n",
       "6                   This gave me chills… in the best way       joy\n",
       "8           I didn t expect to love this as much as I do  surprise\n",
       "...                                                  ...       ...\n",
       "10459  16:30 to 17:34 is hilarious. How do I like you...       joy\n",
       "10461  You know that the 82nd Airborne is the 18th Ai...     anger\n",
       "10462  the 2 places i learn history fat electrician a...       joy\n",
       "10465  I'm sitting here watching clips from the movie...  surprise\n",
       "10466                                   Eh 2 peter 2:1-8   neutral\n",
       "\n",
       "[6138 rows x 2 columns]"
      ]
     },
     "execution_count": 12,
     "metadata": {},
     "output_type": "execute_result"
    }
   ],
   "source": [
    "dataset = dataset.drop(columns=[\"score\"])\n",
    "dataset"
   ]
  },
  {
   "cell_type": "code",
   "execution_count": null,
   "metadata": {
    "id": "LykIrp6ztBNt"
   },
   "outputs": [],
   "source": [
    "#Encoding\n",
    "le =LabelEncoder()\n",
    "dataset[\"encoded_label\"] = le.fit_transform(dataset[\"label\"])\n",
    "dataset[\"labels\"] = dataset[\"encoded_label\"]\n",
    "\n",
    "hf_dataset = Dataset.from_pandas(dataset[[\"comment\", \"labels\"]])\n",
    "split_dataset = hf_dataset.train_test_split(test_size=0.15, seed=42)\n",
    "train_dataset = split_dataset[\"train\"]\n",
    "val_dataset = split_dataset[\"test\"]\n"
   ]
  },
  {
   "cell_type": "code",
   "execution_count": null,
   "metadata": {
    "colab": {
     "base_uri": "https://localhost:8080/",
     "height": 269,
     "referenced_widgets": [
      "03b4ad5c3df44c5a958360c07fe42e1b",
      "cb8f017f3fa14acb9a8c21c7d3528315",
      "edca23719eca424fac626253cc551280",
      "e26ffddbd2d64e8f92a33e8c6feddbae",
      "6c5af478e66d4e24a1f3694b222a3fc8",
      "c1088101e98a4366b36ad9898ff30f7b",
      "197954cc71c643ab9f76afba5239026b",
      "8a62d9dd71a54b358d91487ab3e058ad",
      "64931f54ed574b53b83d906761125fe1",
      "e23a6e9f32484e7885d7d2c82f498d13",
      "dcf9eb961b754d15bcd247c0bf62fd4e",
      "2abe8996ab744565ac03dbca9b67f3de",
      "2b1bad18d1a44dacb2ad8e1dd1713212",
      "a1df71daefbd449f8f682c8387923d1e",
      "63a4422b8a034c55b00431d595c03760",
      "de8ef5a19a5049e2a6087363b5bceac5",
      "bda94f61f8ed460aba58dd91117768e4",
      "9621ec00f5644c00b56192814877d28f",
      "3450e398e166432eada8cbe410f96f8c",
      "cdd9e20491f843dfb628b464b62a4761",
      "446419c24424430bb1e30c7bd80039c7",
      "69625fec35d54cbab00180dc0b81e187",
      "c656f39ef29247a0ada617e74e1a4354",
      "3213d3b80339485a9b8c577d0d40cae5",
      "5b0ed5a8de41450e9d6b34b8aaaf1eca",
      "a4b0c6272b4f4f759a0c1b96a2bd118d",
      "2c4cebc8c20149d8aec21ff16524ada8",
      "0c8bb726865a454ead79edf3919723cf",
      "3afec7eb0ae24412adb5cf919ff46f0d",
      "ae69d0afe4a6474fb380962c96089f08",
      "b0cd545d26bc401ca70c6a26218017ab",
      "dc80d98f3a0f4f16ae01eeab63746423",
      "bc482758f8f845e1a4ca5b57d4b0558d",
      "4e49a1f6ba3d4c4a9736762558b947b7",
      "4a982ae0631b41229bd084df05d7c8cf",
      "a8044b834257440ba117b1b68a70c45d",
      "acf3b44d0af7415aafac6349c1ee8da9",
      "482ede4e26d848e6a93d5da7da170a61",
      "bb3af0c361f84916a1f51729ca026620",
      "74d43b26ccb348c99b3999dff65399fd",
      "9cfc572dbca64f17a59eafc7cf84f0e7",
      "6fb032cea9794b318610b51aa26ebeb7",
      "653769fa49c44480a336f89ee8277302",
      "2f33ba70f4774b09a9f62510d3a2492a"
     ]
    },
    "id": "m31cqUh2ub15",
    "outputId": "2957cd45-3a9b-4676-d610-b618adeb6d90"
   },
   "outputs": [
    {
     "name": "stderr",
     "output_type": "stream",
     "text": [
      "/usr/local/lib/python3.11/dist-packages/huggingface_hub/utils/_auth.py:94: UserWarning: \n",
      "The secret `HF_TOKEN` does not exist in your Colab secrets.\n",
      "To authenticate with the Hugging Face Hub, create a token in your settings tab (https://huggingface.co/settings/tokens), set it as secret in your Google Colab and restart your session.\n",
      "You will be able to reuse this secret in all of your notebooks.\n",
      "Please note that authentication is recommended but still optional to access public models or datasets.\n",
      "  warnings.warn(\n"
     ]
    },
    {
     "data": {
      "application/vnd.jupyter.widget-view+json": {
       "model_id": "03b4ad5c3df44c5a958360c07fe42e1b",
       "version_major": 2,
       "version_minor": 0
      },
      "text/plain": [
       "tokenizer_config.json:   0%|          | 0.00/48.0 [00:00<?, ?B/s]"
      ]
     },
     "metadata": {},
     "output_type": "display_data"
    },
    {
     "data": {
      "application/vnd.jupyter.widget-view+json": {
       "model_id": "2abe8996ab744565ac03dbca9b67f3de",
       "version_major": 2,
       "version_minor": 0
      },
      "text/plain": [
       "config.json:   0%|          | 0.00/483 [00:00<?, ?B/s]"
      ]
     },
     "metadata": {},
     "output_type": "display_data"
    },
    {
     "data": {
      "application/vnd.jupyter.widget-view+json": {
       "model_id": "c656f39ef29247a0ada617e74e1a4354",
       "version_major": 2,
       "version_minor": 0
      },
      "text/plain": [
       "vocab.txt:   0%|          | 0.00/232k [00:00<?, ?B/s]"
      ]
     },
     "metadata": {},
     "output_type": "display_data"
    },
    {
     "data": {
      "application/vnd.jupyter.widget-view+json": {
       "model_id": "4e49a1f6ba3d4c4a9736762558b947b7",
       "version_major": 2,
       "version_minor": 0
      },
      "text/plain": [
       "tokenizer.json:   0%|          | 0.00/466k [00:00<?, ?B/s]"
      ]
     },
     "metadata": {},
     "output_type": "display_data"
    }
   ],
   "source": [
    "tokenizer =AutoTokenizer.from_pretrained(\"distilbert-base-uncased\")"
   ]
  },
  {
   "cell_type": "code",
   "execution_count": 15,
   "metadata": {
    "colab": {
     "base_uri": "https://localhost:8080/",
     "height": 81,
     "referenced_widgets": [
      "6068fecda3d14ab39b4d058cabe57320",
      "bd3a6603a59b44f0bd9da904d7667383",
      "614789cd247f48e4b80478a9a2edc8b8",
      "e9434b957f32438dbdd6f0053e2dc995",
      "fabcdaa9e5014cbbafbd609ec2956baa",
      "9fd2ebbf853e467cac68181bb76b91d1",
      "224d835652b94c06a80e093d9f961430",
      "80a92688f2184389b2ffe879a4498ffa",
      "5f8f159b8b0f4e3796d13031c82ef6d1",
      "1e6225a9d5c54c4e9688f46b83abdd67",
      "09be4e7b1d2f4b00a685a293f2765720",
      "a161f206de5347b79a7d5492128547f8",
      "88ec0d11b37c4c69b106cc93ccb752d9",
      "b044917865e74c61b591241fd0f14b6c",
      "79456d4e4d474a4b8029e23a5d223cd3",
      "1a0ec01a699649a39146e6799f86a817",
      "1251eba9b33d4f548f3389a101455235",
      "e6fbc5473ef34fec865a1624e38e8475",
      "09b1167d191944ce81b5d6cdd3a5b182",
      "3b9aaac5ce03459a92c425a4ad1226fe",
      "67d8c1c962c9462aa53875036f1abb4c",
      "e503d9aee4ad4d4e9fa1df79f7a7f0f4"
     ]
    },
    "id": "kHA3IAgdupU-",
    "outputId": "70d38b8d-a7a7-4b84-d568-d09046ce94e4"
   },
   "outputs": [
    {
     "data": {
      "application/vnd.jupyter.widget-view+json": {
       "model_id": "6068fecda3d14ab39b4d058cabe57320",
       "version_major": 2,
       "version_minor": 0
      },
      "text/plain": [
       "Map:   0%|          | 0/5217 [00:00<?, ? examples/s]"
      ]
     },
     "metadata": {},
     "output_type": "display_data"
    },
    {
     "data": {
      "application/vnd.jupyter.widget-view+json": {
       "model_id": "a161f206de5347b79a7d5492128547f8",
       "version_major": 2,
       "version_minor": 0
      },
      "text/plain": [
       "Map:   0%|          | 0/921 [00:00<?, ? examples/s]"
      ]
     },
     "metadata": {},
     "output_type": "display_data"
    }
   ],
   "source": [
    "def tokenize(batch):\n",
    "    return tokenizer(batch[\"comment\"], truncation=True, padding=\"max_length\")\n",
    "\n",
    "train_dataset = train_dataset.map(tokenize, batched=True)\n",
    "val_dataset = val_dataset.map(tokenize, batched=True)"
   ]
  },
  {
   "cell_type": "code",
   "execution_count": 16,
   "metadata": {
    "colab": {
     "base_uri": "https://localhost:8080/",
     "height": 104,
     "referenced_widgets": [
      "0d4dd6c14fab4519b8b7bb2029413a30",
      "51b19749ef8041919cca562d00cdc161",
      "d7486b8a05ca4c96833a2cd719fa86ad",
      "723571fcf6a34cd89871bc2f6f32fa96",
      "b6dd7b914e4c4bd4a800952bac480a8e",
      "da9d7e765fcc4fcd8155830a518880af",
      "1581736c16434e7ebee8f098cb2349f6",
      "cefdfd8cd76f4fa7b9c7488631e4963f",
      "77e0e0ed846b4ab58feeaa10777e8915",
      "4078ce053d1e48d5aec3cd19010faaa4",
      "70c9ffc2ff18498783f58580b98bd0e2"
     ]
    },
    "id": "tCddONlovk0H",
    "outputId": "3610eacc-554f-4037-a9c4-d861f3f1cf77"
   },
   "outputs": [
    {
     "data": {
      "application/vnd.jupyter.widget-view+json": {
       "model_id": "0d4dd6c14fab4519b8b7bb2029413a30",
       "version_major": 2,
       "version_minor": 0
      },
      "text/plain": [
       "model.safetensors:   0%|          | 0.00/268M [00:00<?, ?B/s]"
      ]
     },
     "metadata": {},
     "output_type": "display_data"
    },
    {
     "name": "stderr",
     "output_type": "stream",
     "text": [
      "Some weights of DistilBertForSequenceClassification were not initialized from the model checkpoint at distilbert-base-uncased and are newly initialized: ['classifier.bias', 'classifier.weight', 'pre_classifier.bias', 'pre_classifier.weight']\n",
      "You should probably TRAIN this model on a down-stream task to be able to use it for predictions and inference.\n"
     ]
    }
   ],
   "source": [
    "model = AutoModelForSequenceClassification.from_pretrained(\"distilbert-base-uncased\", num_labels=len(le.classes_))"
   ]
  },
  {
   "cell_type": "code",
   "execution_count": 17,
   "metadata": {
    "id": "6mejUzMFwX9V"
   },
   "outputs": [],
   "source": [
    "training_args = TrainingArguments(\n",
    "    output_dir=\"./results\",\n",
    "    eval_strategy=\"epoch\",\n",
    "    per_device_train_batch_size=8,\n",
    "    num_train_epochs=3,\n",
    "    save_strategy=\"epoch\",\n",
    "    logging_dir=\"./logs\",\n",
    ")"
   ]
  },
  {
   "cell_type": "code",
   "execution_count": 18,
   "metadata": {
    "id": "5dL4jMJuxFZ7"
   },
   "outputs": [],
   "source": [
    "trainer = Trainer(\n",
    "    model=model,\n",
    "    args=training_args,\n",
    "    train_dataset=train_dataset,\n",
    "    eval_dataset=val_dataset,\n",
    ")"
   ]
  },
  {
   "cell_type": "code",
   "execution_count": 19,
   "metadata": {
    "colab": {
     "base_uri": "https://localhost:8080/",
     "height": 432
    },
    "id": "D7d2Em5pyP-E",
    "outputId": "dd23c07e-55ae-4a61-e1ce-feebef88b212"
   },
   "outputs": [
    {
     "name": "stderr",
     "output_type": "stream",
     "text": [
      "\u001b[34m\u001b[1mwandb\u001b[0m: \u001b[33mWARNING\u001b[0m The `run_name` is currently set to the same value as `TrainingArguments.output_dir`. If this was not intended, please specify a different run name by setting the `TrainingArguments.run_name` parameter.\n"
     ]
    },
    {
     "data": {
      "application/javascript": "\n        window._wandbApiKey = new Promise((resolve, reject) => {\n            function loadScript(url) {\n            return new Promise(function(resolve, reject) {\n                let newScript = document.createElement(\"script\");\n                newScript.onerror = reject;\n                newScript.onload = resolve;\n                document.body.appendChild(newScript);\n                newScript.src = url;\n            });\n            }\n            loadScript(\"https://cdn.jsdelivr.net/npm/postmate/build/postmate.min.js\").then(() => {\n            const iframe = document.createElement('iframe')\n            iframe.style.cssText = \"width:0;height:0;border:none\"\n            document.body.appendChild(iframe)\n            const handshake = new Postmate({\n                container: iframe,\n                url: 'https://wandb.ai/authorize'\n            });\n            const timeout = setTimeout(() => reject(\"Couldn't auto authenticate\"), 5000)\n            handshake.then(function(child) {\n                child.on('authorize', data => {\n                    clearTimeout(timeout)\n                    resolve(data)\n                });\n            });\n            })\n        });\n    ",
      "text/plain": [
       "<IPython.core.display.Javascript object>"
      ]
     },
     "metadata": {},
     "output_type": "display_data"
    },
    {
     "name": "stderr",
     "output_type": "stream",
     "text": [
      "\u001b[34m\u001b[1mwandb\u001b[0m: \u001b[33mWARNING\u001b[0m If you're specifying your api key in code, ensure this code is not shared publicly.\n",
      "\u001b[34m\u001b[1mwandb\u001b[0m: \u001b[33mWARNING\u001b[0m Consider setting the WANDB_API_KEY environment variable, or running `wandb login` from the command line.\n",
      "\u001b[34m\u001b[1mwandb\u001b[0m: No netrc file found, creating one.\n",
      "\u001b[34m\u001b[1mwandb\u001b[0m: Appending key for api.wandb.ai to your netrc file: /root/.netrc\n",
      "\u001b[34m\u001b[1mwandb\u001b[0m: Currently logged in as: \u001b[33manujpersonal5\u001b[0m (\u001b[33manujpersonal5-pccoe\u001b[0m) to \u001b[32mhttps://api.wandb.ai\u001b[0m. Use \u001b[1m`wandb login --relogin`\u001b[0m to force relogin\n"
     ]
    },
    {
     "data": {
      "text/html": [
       "Tracking run with wandb version 0.19.11"
      ],
      "text/plain": [
       "<IPython.core.display.HTML object>"
      ]
     },
     "metadata": {},
     "output_type": "display_data"
    },
    {
     "data": {
      "text/html": [
       "Run data is saved locally in <code>/content/wandb/run-20250615_134725-4i1wrk90</code>"
      ],
      "text/plain": [
       "<IPython.core.display.HTML object>"
      ]
     },
     "metadata": {},
     "output_type": "display_data"
    },
    {
     "data": {
      "text/html": [
       "Syncing run <strong><a href='https://wandb.ai/anujpersonal5-pccoe/huggingface/runs/4i1wrk90' target=\"_blank\">./results</a></strong> to <a href='https://wandb.ai/anujpersonal5-pccoe/huggingface' target=\"_blank\">Weights & Biases</a> (<a href='https://wandb.me/developer-guide' target=\"_blank\">docs</a>)<br>"
      ],
      "text/plain": [
       "<IPython.core.display.HTML object>"
      ]
     },
     "metadata": {},
     "output_type": "display_data"
    },
    {
     "data": {
      "text/html": [
       " View project at <a href='https://wandb.ai/anujpersonal5-pccoe/huggingface' target=\"_blank\">https://wandb.ai/anujpersonal5-pccoe/huggingface</a>"
      ],
      "text/plain": [
       "<IPython.core.display.HTML object>"
      ]
     },
     "metadata": {},
     "output_type": "display_data"
    },
    {
     "data": {
      "text/html": [
       " View run at <a href='https://wandb.ai/anujpersonal5-pccoe/huggingface/runs/4i1wrk90' target=\"_blank\">https://wandb.ai/anujpersonal5-pccoe/huggingface/runs/4i1wrk90</a>"
      ],
      "text/plain": [
       "<IPython.core.display.HTML object>"
      ]
     },
     "metadata": {},
     "output_type": "display_data"
    },
    {
     "data": {
      "text/html": [
       "\n",
       "    <div>\n",
       "      \n",
       "      <progress value='1959' max='1959' style='width:300px; height:20px; vertical-align: middle;'></progress>\n",
       "      [1959/1959 12:56, Epoch 3/3]\n",
       "    </div>\n",
       "    <table border=\"1\" class=\"dataframe\">\n",
       "  <thead>\n",
       " <tr style=\"text-align: left;\">\n",
       "      <th>Epoch</th>\n",
       "      <th>Training Loss</th>\n",
       "      <th>Validation Loss</th>\n",
       "    </tr>\n",
       "  </thead>\n",
       "  <tbody>\n",
       "    <tr>\n",
       "      <td>1</td>\n",
       "      <td>0.623500</td>\n",
       "      <td>0.495740</td>\n",
       "    </tr>\n",
       "    <tr>\n",
       "      <td>2</td>\n",
       "      <td>0.318500</td>\n",
       "      <td>0.513478</td>\n",
       "    </tr>\n",
       "    <tr>\n",
       "      <td>3</td>\n",
       "      <td>0.192400</td>\n",
       "      <td>0.554101</td>\n",
       "    </tr>\n",
       "  </tbody>\n",
       "</table><p>"
      ],
      "text/plain": [
       "<IPython.core.display.HTML object>"
      ]
     },
     "metadata": {},
     "output_type": "display_data"
    },
    {
     "data": {
      "text/plain": [
       "TrainOutput(global_step=1959, training_loss=0.3124719165063988, metrics={'train_runtime': 786.7252, 'train_samples_per_second': 19.894, 'train_steps_per_second': 2.49, 'total_flos': 2073432123472896.0, 'train_loss': 0.3124719165063988, 'epoch': 3.0})"
      ]
     },
     "execution_count": 19,
     "metadata": {},
     "output_type": "execute_result"
    }
   ],
   "source": [
    "trainer.train()\n"
   ]
  },
  {
   "cell_type": "code",
   "execution_count": 20,
   "metadata": {
    "colab": {
     "base_uri": "https://localhost:8080/",
     "height": 124
    },
    "id": "zD6Lw6L2zPWz",
    "outputId": "28610684-28b7-4b62-a5f0-c4523841414f"
   },
   "outputs": [
    {
     "data": {
      "text/html": [
       "\n",
       "    <div>\n",
       "      \n",
       "      <progress value='116' max='116' style='width:300px; height:20px; vertical-align: middle;'></progress>\n",
       "      [116/116 00:13]\n",
       "    </div>\n",
       "    "
      ],
      "text/plain": [
       "<IPython.core.display.HTML object>"
      ]
     },
     "metadata": {},
     "output_type": "display_data"
    },
    {
     "data": {
      "text/plain": [
       "{'eval_loss': 0.554101288318634,\n",
       " 'eval_runtime': 13.2694,\n",
       " 'eval_samples_per_second': 69.408,\n",
       " 'eval_steps_per_second': 8.742,\n",
       " 'epoch': 3.0}"
      ]
     },
     "execution_count": 20,
     "metadata": {},
     "output_type": "execute_result"
    }
   ],
   "source": [
    "trainer.evaluate(val_dataset)\n"
   ]
  },
  {
   "cell_type": "code",
   "execution_count": 25,
   "metadata": {
    "colab": {
     "base_uri": "https://localhost:8080/",
     "height": 260
    },
    "id": "JkdWX9KE5S2Z",
    "outputId": "836b8b83-b1be-4252-f748-2514b5758a88"
   },
   "outputs": [
    {
     "data": {
      "text/html": [],
      "text/plain": [
       "<IPython.core.display.HTML object>"
      ]
     },
     "metadata": {},
     "output_type": "display_data"
    },
    {
     "name": "stdout",
     "output_type": "stream",
     "text": [
      "              precision    recall  f1-score   support\n",
      "\n",
      "       anger       0.88      0.64      0.74        22\n",
      "     disgust       0.67      0.62      0.64        13\n",
      "        fear       1.00      0.74      0.85        23\n",
      "         joy       0.89      0.93      0.91       240\n",
      "     neutral       0.93      0.93      0.93       472\n",
      "     sadness       0.70      0.78      0.74        36\n",
      "    surprise       0.86      0.84      0.85       115\n",
      "\n",
      "    accuracy                           0.90       921\n",
      "   macro avg       0.85      0.78      0.81       921\n",
      "weighted avg       0.90      0.90      0.90       921\n",
      "\n"
     ]
    }
   ],
   "source": [
    "from sklearn.metrics import classification_report\n",
    "\n",
    "val_labels = val_dataset[\"labels\"]\n",
    "\n",
    "preds_output = trainer.predict(val_dataset)\n",
    "preds = preds_output.predictions.argmax(-1)\n",
    "print(classification_report(val_labels, preds, target_names=le.classes_))\n"
   ]
  },
  {
   "cell_type": "code",
   "execution_count": 30,
   "metadata": {
    "colab": {
     "base_uri": "https://localhost:8080/"
    },
    "id": "26WlGqIZ5n9_",
    "outputId": "2cc2caf2-5617-4efb-90e2-f8cb4a5fde6f"
   },
   "outputs": [
    {
     "data": {
      "text/plain": [
       "('/content/drive/MyDrive/youtubesentiment/model/tokenizer_config.json',\n",
       " '/content/drive/MyDrive/youtubesentiment/model/special_tokens_map.json',\n",
       " '/content/drive/MyDrive/youtubesentiment/model/vocab.txt',\n",
       " '/content/drive/MyDrive/youtubesentiment/model/added_tokens.json',\n",
       " '/content/drive/MyDrive/youtubesentiment/model/tokenizer.json')"
      ]
     },
     "execution_count": 30,
     "metadata": {},
     "output_type": "execute_result"
    }
   ],
   "source": [
    "save_directory = \"/content/drive/MyDrive/youtubesentiment/model\"\n",
    "\n",
    "trainer.save_model(save_directory)\n",
    "tokenizer.save_pretrained(save_directory)\n"
   ]
  },
  {
   "cell_type": "code",
   "execution_count": 41,
   "metadata": {
    "colab": {
     "base_uri": "https://localhost:8080/"
    },
    "id": "7sRLGXab7jlt",
    "outputId": "3b0c21b5-0613-4478-e79e-5df4affde6f9"
   },
   "outputs": [
    {
     "name": "stdout",
     "output_type": "stream",
     "text": [
      "Predicted sentiment: fear\n"
     ]
    }
   ],
   "source": [
    "from transformers import AutoTokenizer, AutoModelForSequenceClassification\n",
    "import torch\n",
    "\n",
    "model1 = AutoModelForSequenceClassification.from_pretrained(save_directory)\n",
    "tokenizer1 = AutoTokenizer.from_pretrained(save_directory)\n",
    "\n",
    "model1 = model1.to(trainer.model.device)\n",
    "model1.eval()\n",
    "\n",
    "test_comment = \"I'm crying and feeling terrible today\"\n",
    "\n",
    "inputs = tokenizer1(test_comment, return_tensors=\"pt\", truncation=True, padding=True)\n",
    "inputs = {k: v.to(trainer.model.device) for k, v in inputs.items()}\n",
    "\n",
    "with torch.no_grad():\n",
    "    outputs = model1(**inputs)\n",
    "    pred_class = torch.argmax(outputs.logits, dim=1).item()\n",
    "\n",
    "label_classes = ['anger', 'disgust', 'fear', 'joy', 'neutral', 'sadness', 'surprise']\n",
    "print(f\"Predicted sentiment: {label_classes[pred_class]}\")\n"
   ]
  },
  {
   "cell_type": "code",
   "execution_count": 34,
   "metadata": {
    "colab": {
     "base_uri": "https://localhost:8080/",
     "height": 381
    },
    "id": "AMTT8K8h8-8x",
    "outputId": "c58220b5-bbb0-46a0-fc8e-c5019fc8d95f"
   },
   "outputs": [
    {
     "data": {
      "text/html": [],
      "text/plain": [
       "<IPython.core.display.HTML object>"
      ]
     },
     "metadata": {},
     "output_type": "display_data"
    },
    {
     "name": "stdout",
     "output_type": "stream",
     "text": [
      "📊 Classification Report:\n",
      "              precision    recall  f1-score   support\n",
      "\n",
      "       anger       0.88      0.64      0.74        22\n",
      "     disgust       0.67      0.62      0.64        13\n",
      "        fear       1.00      0.74      0.85        23\n",
      "         joy       0.89      0.93      0.91       240\n",
      "     neutral       0.93      0.93      0.93       472\n",
      "     sadness       0.70      0.78      0.74        36\n",
      "    surprise       0.86      0.84      0.85       115\n",
      "\n",
      "    accuracy                           0.90       921\n",
      "   macro avg       0.85      0.78      0.81       921\n",
      "weighted avg       0.90      0.90      0.90       921\n",
      "\n",
      "\n",
      "📈 Individual Metrics:\n",
      "✅ Accuracy:  0.8979\n",
      "🎯 Precision: 0.8991\n",
      "🔁 Recall:    0.8979\n",
      "🏆 F1 Score:  0.8974\n"
     ]
    }
   ],
   "source": [
    "from sklearn.metrics import classification_report, accuracy_score, precision_score, recall_score, f1_score\n",
    "import numpy as np\n",
    "\n",
    "preds_output = trainer.predict(val_dataset)\n",
    "preds = np.argmax(preds_output.predictions, axis=1)\n",
    "true_labels = val_dataset['labels']\n",
    "true_labels = le.inverse_transform(val_dataset['labels'])\n",
    "preds = le.inverse_transform(preds)\n",
    "print(\"📊 Classification Report:\")\n",
    "print(classification_report(true_labels, preds, target_names=le.classes_))\n",
    "\n",
    "accuracy = accuracy_score(true_labels, preds)\n",
    "precision = precision_score(true_labels, preds, average='weighted')\n",
    "recall = recall_score(true_labels, preds, average='weighted')\n",
    "f1 = f1_score(true_labels, preds, average='weighted')\n",
    "\n",
    "print(\"\\n📈 Individual Metrics:\")\n",
    "print(f\"✅ Accuracy:  {accuracy:.4f}\")\n",
    "print(f\"🎯 Precision: {precision:.4f}\")\n",
    "print(f\"🔁 Recall:    {recall:.4f}\")\n",
    "print(f\"🏆 F1 Score:  {f1:.4f}\")\n"
   ]
  },
  {
   "cell_type": "code",
   "execution_count": 42,
   "metadata": {
    "id": "lX_8TSVG9tJM"
   },
   "outputs": [],
   "source": [
    "from sklearn.metrics import classification_report, confusion_matrix, ConfusionMatrixDisplay\n",
    "from sklearn.metrics import precision_recall_fscore_support, accuracy_score\n",
    "import matplotlib.pyplot as plt\n",
    "import seaborn as sns\n",
    "import numpy as np"
   ]
  },
  {
   "cell_type": "code",
   "execution_count": 43,
   "metadata": {
    "colab": {
     "base_uri": "https://localhost:8080/",
     "height": 17
    },
    "id": "HxsNtZ-N-ZOD",
    "outputId": "8a55bf38-ea5f-4336-8f00-161051e10b23"
   },
   "outputs": [
    {
     "data": {
      "text/html": [],
      "text/plain": [
       "<IPython.core.display.HTML object>"
      ]
     },
     "metadata": {},
     "output_type": "display_data"
    }
   ],
   "source": [
    "preds_output = trainer.predict(val_dataset)\n",
    "preds = np.argmax(preds_output.predictions, axis=1)\n",
    "true_labels = val_dataset[\"labels\"]\n",
    "\n",
    "true_labels = le.inverse_transform(true_labels)\n",
    "preds = le.inverse_transform(preds)\n",
    "\n",
    "label_names = le.classes_\n"
   ]
  },
  {
   "cell_type": "code",
   "execution_count": 44,
   "metadata": {
    "colab": {
     "base_uri": "https://localhost:8080/",
     "height": 607
    },
    "id": "aVlkQOtqAWVv",
    "outputId": "20534b07-e107-401c-9aab-487f7982937a"
   },
   "outputs": [
    {
     "data": {
      "image/png": "[encoded data removed]",
      "text/plain": [
       "<Figure size 800x600 with 2 Axes>"
      ]
     },
     "metadata": {},
     "output_type": "display_data"
    }
   ],
   "source": [
    "cm = confusion_matrix(true_labels, preds, labels=label_names)\n",
    "plt.figure(figsize=(8, 6))\n",
    "sns.heatmap(cm, annot=True, fmt='d', cmap='Blues', xticklabels=label_names, yticklabels=label_names)\n",
    "plt.xlabel(\"Predicted\")\n",
    "plt.ylabel(\"True\")\n",
    "plt.title(\"Confusion Matrix\")\n",
    "plt.tight_layout()\n",
    "plt.show()\n"
   ]
  },
  {
   "cell_type": "code",
   "execution_count": 45,
   "metadata": {
    "colab": {
     "base_uri": "https://localhost:8080/",
     "height": 607
    },
    "id": "w9Jy7g_GAcVe",
    "outputId": "bb05eec9-f0f0-4590-d054-fae292579552"
   },
   "outputs": [
    {
     "data": {
      "image/png": "[encoded data removed]",
      "text/plain": [
       "<Figure size 1000x600 with 1 Axes>"
      ]
     },
     "metadata": {},
     "output_type": "display_data"
    }
   ],
   "source": [
    "precisions, recalls, f1s, _ = precision_recall_fscore_support(true_labels, preds, labels=label_names)\n",
    "\n",
    "metrics_df = pd.DataFrame({\n",
    "    'Label': label_names,\n",
    "    'Precision': precisions,\n",
    "    'Recall': recalls,\n",
    "    'F1 Score': f1s\n",
    "})\n",
    "\n",
    "metrics_df.set_index('Label').plot(kind='bar', figsize=(10, 6), ylim=(0, 1), colormap=\"viridis\")\n",
    "plt.title(\"Per-Class Evaluation Metrics\")\n",
    "plt.ylabel(\"Score\")\n",
    "plt.xticks(rotation=45)\n",
    "plt.grid(True, axis='y')\n",
    "plt.tight_layout()\n",
    "plt.show()\n"
   ]
  },
  {
   "cell_type": "code",
   "execution_count": 46,
   "metadata": {
    "colab": {
     "base_uri": "https://localhost:8080/"
    },
    "id": "6foi_Al6Ae6o",
    "outputId": "c7482ead-4ce7-4f99-c5fd-7fd9798be877"
   },
   "outputs": [
    {
     "name": "stdout",
     "output_type": "stream",
     "text": [
      "Overall Accuracy: 0.8979\n"
     ]
    }
   ],
   "source": [
    "acc = accuracy_score(true_labels, preds)\n",
    "print(f\"Overall Accuracy: {acc:.4f}\")\n"
   ]
  },
  {
   "cell_type": "code",
   "execution_count": null,
   "metadata": {
    "id": "M1M17sIvAgEf"
   },
   "outputs": [],
   "source": []
  }
 ],
 "metadata": {
  "accelerator": "GPU",
  "colab": {
   "gpuType": "T4",
   "provenance": []
  },
  "kernelspec": {
   "display_name": "Python 3",
   "name": "python3"
  },
  "language_info": {
   "name": "python"
  }
 },
 "nbformat": 4,
 "nbformat_minor": 0
}
